{
 "cells": [
  {
   "cell_type": "markdown",
   "id": "9237da16-8352-43a4-b2e8-0244449b62c7",
   "metadata": {},
   "source": [
    "# Basic If-Else Statements:"
   ]
  },
  {
   "cell_type": "markdown",
   "id": "10d52474-d1d9-4e9e-9759-5e9c0126e6ab",
   "metadata": {},
   "source": [
    "### 1. Write a Python program to check if a given number is positive or negative.\n"
   ]
  },
  {
   "cell_type": "code",
   "execution_count": 3,
   "id": "72dfe9a8-6a82-4190-ab4a-d05033cf0545",
   "metadata": {},
   "outputs": [
    {
     "name": "stdin",
     "output_type": "stream",
     "text": [
      "Enter any integer : -15\n"
     ]
    },
    {
     "name": "stdout",
     "output_type": "stream",
     "text": [
      "Negative Number\n"
     ]
    }
   ],
   "source": [
    "num = int(input('Enter any integer :'))\n",
    "\n",
    "if num > 0:\n",
    "    print(\"Positive Number\")\n",
    "elif num == 0:\n",
    "        print(\"Neutral Number\")\n",
    "else:\n",
    "    print(\"Negative Number\")   "
   ]
  },
  {
   "cell_type": "markdown",
   "id": "efada9fa-2c96-4a85-989b-5035f39d4531",
   "metadata": {},
   "source": [
    "### 2. Create a program that determines if a person is eligible to vote based on their age.\n"
   ]
  },
  {
   "cell_type": "code",
   "execution_count": 5,
   "id": "67a52614-7711-472f-ad04-30969aefb255",
   "metadata": {},
   "outputs": [
    {
     "name": "stdin",
     "output_type": "stream",
     "text": [
      "Enter Your Age : 27\n"
     ]
    },
    {
     "name": "stdout",
     "output_type": "stream",
     "text": [
      "You are eligible to vote\n"
     ]
    }
   ],
   "source": [
    "age = float(input('Enter Your Age :'))\n",
    "\n",
    "if age >= 18:\n",
    "    print(\"You are eligible to vote\")\n",
    "else:\n",
    "    print(\"You are not eligible to vote\")  "
   ]
  },
  {
   "cell_type": "markdown",
   "id": "c6a74f01-29c1-4cb0-b4f2-81ed11bcd844",
   "metadata": {},
   "source": [
    "### 3. Develop a program to find the maximum of two numbers using if-else statements.\n"
   ]
  },
  {
   "cell_type": "code",
   "execution_count": 7,
   "id": "c70558a0-e050-4728-8615-2c581798c454",
   "metadata": {},
   "outputs": [
    {
     "name": "stdin",
     "output_type": "stream",
     "text": [
      "Enter first number 15\n",
      "Enter second number 14\n"
     ]
    },
    {
     "name": "stdout",
     "output_type": "stream",
     "text": [
      "15 is greater than 14\n"
     ]
    }
   ],
   "source": [
    "a = int(input('Enter first number'))\n",
    "b = int(input('Enter second number'))\n",
    "\n",
    "if a > b :\n",
    "    print(a,'is greater than', b)\n",
    "elif a == b:\n",
    "        print('both are equal')\n",
    "else:\n",
    "    print(b,'is greater than', a)"
   ]
  },
  {
   "cell_type": "markdown",
   "id": "63855e7c-1ab1-4b78-b0f3-af53310fee77",
   "metadata": {},
   "source": [
    "### 4. Write a Python script to classify a given year as a leap year or not.\n"
   ]
  },
  {
   "cell_type": "code",
   "execution_count": 16,
   "id": "7a864f8f-6898-4651-a221-f0fa55286e29",
   "metadata": {},
   "outputs": [
    {
     "name": "stdin",
     "output_type": "stream",
     "text": [
      "Enter Year : 1900\n"
     ]
    },
    {
     "name": "stdout",
     "output_type": "stream",
     "text": [
      "This is not a Leap Year\n"
     ]
    }
   ],
   "source": [
    "year = int(input('Enter Year :'))\n",
    "\n",
    "if year % 100 == 0 :\n",
    "    if year % 400 == 0 :\n",
    "        print(\"This is a Leap Year\")\n",
    "    else:\n",
    "        print(\"This is not a Leap Year\") \n",
    "elif year % 4 == 0 :\n",
    "    print(\"This is a Leap Year\")\n",
    "else:\n",
    "    print(\"This is not a Leap Year\")  "
   ]
  },
  {
   "cell_type": "markdown",
   "id": "a68cde8f-8e4e-430f-b5a6-3b593bdaed74",
   "metadata": {},
   "source": [
    "### 5. Create a program that checks whether a character is a vowel or a consonant.\n"
   ]
  },
  {
   "cell_type": "code",
   "execution_count": 19,
   "id": "946f0006-cebc-45fe-be2e-db0a327efadd",
   "metadata": {},
   "outputs": [
    {
     "name": "stdin",
     "output_type": "stream",
     "text": [
      "Enter alphabet: c\n"
     ]
    },
    {
     "name": "stdout",
     "output_type": "stream",
     "text": [
      "This is a Consonant\n"
     ]
    }
   ],
   "source": [
    "a = (input('Enter alphabet:'))\n",
    "vowel =['a','e','i','o','u']\n",
    "if vowel.count(a) == 1:\n",
    "    print(\"This is a Vowel\")\n",
    "else:\n",
    "    print(\"This is a Consonant\")"
   ]
  },
  {
   "cell_type": "markdown",
   "id": "76341822-a4c6-47bc-9f3c-ce7af2d17895",
   "metadata": {},
   "source": [
    "### 6. Implement a program to determine whether a given number is even or odd."
   ]
  },
  {
   "cell_type": "code",
   "execution_count": 20,
   "id": "4415f8ca-5379-4ce0-9a17-aefb10508a82",
   "metadata": {},
   "outputs": [
    {
     "name": "stdin",
     "output_type": "stream",
     "text": [
      "Enter a number : 15\n"
     ]
    },
    {
     "name": "stdout",
     "output_type": "stream",
     "text": [
      "This is odd\n"
     ]
    }
   ],
   "source": [
    "num = int(input('Enter a number :'))\n",
    "if num % 2 == 0:\n",
    "    print(\"This is even\")\n",
    "else:\n",
    "    print(\"This is odd\")"
   ]
  },
  {
   "cell_type": "markdown",
   "id": "3afff363-510b-42a5-8b1f-df5c0fbdd017",
   "metadata": {},
   "source": [
    "### 7. Write a Python function to calculate the absolute value of a number without using the `abs()` function."
   ]
  },
  {
   "cell_type": "code",
   "execution_count": 5,
   "id": "4df2e3bc-9536-4d04-85e7-d8d1f89c80e9",
   "metadata": {},
   "outputs": [
    {
     "name": "stdin",
     "output_type": "stream",
     "text": [
      "Enter a number : +15\n"
     ]
    },
    {
     "name": "stdout",
     "output_type": "stream",
     "text": [
      "15\n"
     ]
    }
   ],
   "source": [
    "num = int(input('Enter a number :'))\n",
    "if num < 0:\n",
    "    print(-num)\n",
    "else:\n",
    "    print(num)"
   ]
  },
  {
   "cell_type": "markdown",
   "id": "d036c09e-6e82-40eb-b93e-0d2875ec5a3e",
   "metadata": {},
   "source": [
    "### 8. Develop a program that determines the largest of three given numbers using if-else statements.\n"
   ]
  },
  {
   "cell_type": "code",
   "execution_count": 23,
   "id": "35283d59-2fca-41be-ba60-bc758f21ede6",
   "metadata": {},
   "outputs": [
    {
     "name": "stdin",
     "output_type": "stream",
     "text": [
      "enter first number : 15\n",
      "enter second number : 18\n",
      "enter third number : 19\n"
     ]
    },
    {
     "name": "stdout",
     "output_type": "stream",
     "text": [
      "19 is largest\n"
     ]
    }
   ],
   "source": [
    "num1, num2, num3 = input(\"enter first number :\"),input(\"enter second number :\"),input(\"enter third number :\")\n",
    "if num1 > num2 and num1 > num3:\n",
    "    print(num1,'is largest')\n",
    "elif num2 > num1 and num2 > num3:\n",
    "    print(num2,'is largest')\n",
    "else:\n",
    "    print(num3,'is largest')"
   ]
  },
  {
   "cell_type": "markdown",
   "id": "2182174b-778b-40db-a682-f337382b519e",
   "metadata": {},
   "source": [
    "### 9. Create a program that checks if a given string is a palindrome.\n"
   ]
  },
  {
   "cell_type": "code",
   "execution_count": null,
   "id": "dbc33e00-31ac-4f85-aa31-875afca8980b",
   "metadata": {},
   "outputs": [],
   "source": [
    "p = input(\"Write your string =\")\n",
    "p = p.lower()\n",
    "reverse_p = p[::-1]\n",
    "\n",
    "if p == reverse_p:\n",
    "    print(\"The string is palindrome\")\n",
    "else:\n",
    "    print(\"The string is not palindrome\")"
   ]
  },
  {
   "cell_type": "markdown",
   "id": "127cd305-5d34-4051-abb1-b8200962b6f6",
   "metadata": {},
   "source": [
    "### 10. Write a Python program to calculate the grade based on a student's score."
   ]
  },
  {
   "cell_type": "code",
   "execution_count": 24,
   "id": "6ce4b904-ccb8-4322-ae57-b12d5dbec16c",
   "metadata": {},
   "outputs": [
    {
     "name": "stdin",
     "output_type": "stream",
     "text": [
      "Enter your marks : 65\n"
     ]
    },
    {
     "name": "stdout",
     "output_type": "stream",
     "text": [
      "Your grade is B\n"
     ]
    }
   ],
   "source": [
    "marks = int(input('Enter your marks :'))\n",
    "if marks >= 90:\n",
    "    print('Your grade is AA')\n",
    "elif marks >=80 and marks < 90:\n",
    "    print('Your grade is A+')\n",
    "elif marks >=70 and marks < 80:\n",
    "    print('Your grade is A')\n",
    "elif marks >=50 and marks < 70:\n",
    "    print('Your grade is B')\n",
    "elif marks >=35 and marks < 50:\n",
    "    print('Your grade is C')\n",
    "else:\n",
    "    print('Your grade is D')"
   ]
  },
  {
   "cell_type": "markdown",
   "id": "81437407-0fd5-471a-947e-b5e71a432aba",
   "metadata": {},
   "source": [
    "# Nested If-Else Statements:\n"
   ]
  },
  {
   "cell_type": "markdown",
   "id": "fe4327e1-07ac-41d0-9459-815dcc6db2aa",
   "metadata": {},
   "source": [
    "### 11. Write a program to find the largest among three numbers using nested if-else statements.\n"
   ]
  },
  {
   "cell_type": "code",
   "execution_count": 13,
   "id": "5f30e4ef-6675-4abb-a185-70aa811d18fa",
   "metadata": {},
   "outputs": [
    {
     "name": "stdin",
     "output_type": "stream",
     "text": [
      "enter first number : 16\n",
      "enter second number : 15\n",
      "enter third number : 14\n"
     ]
    },
    {
     "name": "stdout",
     "output_type": "stream",
     "text": [
      "16 is largest\n"
     ]
    }
   ],
   "source": [
    "num1, num2, num3 = input(\"enter first number :\"),input(\"enter second number :\"),input(\"enter third number :\")\n",
    "if num1 > num2 :\n",
    "    if num1 > num3:\n",
    "        print(num1,'is largest')\n",
    "    elif num1 < num3:\n",
    "        print(num3, 'is largest')\n",
    "elif num2 > num1 :\n",
    "    if num2 > num3:\n",
    "        print(num2,'is largest')\n",
    "    elif num2 < num3:\n",
    "        print(num3, 'is largest') "
   ]
  },
  {
   "cell_type": "markdown",
   "id": "4a1c3bff-32e0-471d-b0f5-07adfe3da0c3",
   "metadata": {},
   "source": [
    "### 12. Implement a program to determine if a triangle is equilateral, isosceles, or scalene.\n"
   ]
  },
  {
   "cell_type": "code",
   "execution_count": 23,
   "id": "25561a1c-2d9e-477c-81e3-5c6889e3a46b",
   "metadata": {},
   "outputs": [
    {
     "name": "stdin",
     "output_type": "stream",
     "text": [
      "length of first side : 10\n",
      "length of second side : 15\n",
      "length of third side : 18\n"
     ]
    },
    {
     "name": "stdout",
     "output_type": "stream",
     "text": [
      "triangle is scalene\n"
     ]
    }
   ],
   "source": [
    "s1, s2, s3 = input(\"length of first side :\"),input(\"length of second side :\"),input(\"length of third side :\")\n",
    "if s1 == s2 == s3:\n",
    "    print('triangle is equilateral')\n",
    "elif s1 == s2 or s1 == s3 or s2 == s3 :\n",
    "    print('triangle is isosceles')\n",
    "else:\n",
    "    print('triangle is scalene')"
   ]
  },
  {
   "cell_type": "markdown",
   "id": "19a66c1f-23dd-412d-9686-3eb74ffc3056",
   "metadata": {},
   "source": [
    "### 13. Develop a program that checks if a year is a leap year and also if it is a century year.\n"
   ]
  },
  {
   "cell_type": "code",
   "execution_count": 28,
   "id": "44e16c01-9eaf-4ffd-a835-61028233aece",
   "metadata": {},
   "outputs": [
    {
     "name": "stdin",
     "output_type": "stream",
     "text": [
      "Enter Year : 1510\n"
     ]
    },
    {
     "name": "stdout",
     "output_type": "stream",
     "text": [
      "This is not a Leap Year\n"
     ]
    }
   ],
   "source": [
    "year = int(input('Enter Year :'))\n",
    "\n",
    "if year % 100 == 0 :\n",
    "    print('This is a century year.')\n",
    "    if year % 400 == 0 :\n",
    "        print(\"This is a Leap Year\")\n",
    "    else:\n",
    "        print(\"This is not a Leap Year\") \n",
    "elif year % 4 == 0 :\n",
    "    print(\"This is a Leap Year\")\n",
    "else:\n",
    "    print(\"This is not a Leap Year\")  "
   ]
  },
  {
   "cell_type": "markdown",
   "id": "f74553d6-8d35-43fe-82ec-27c4eaea4e77",
   "metadata": {},
   "source": [
    "### 14. Write a Python script to determine if a number is positive, negative, or zero.\n"
   ]
  },
  {
   "cell_type": "code",
   "execution_count": 7,
   "id": "597f0cab-3ef6-45b9-b5bd-2f9389d27a3a",
   "metadata": {},
   "outputs": [
    {
     "name": "stdin",
     "output_type": "stream",
     "text": [
      "Enter any integer : 0\n"
     ]
    },
    {
     "name": "stdout",
     "output_type": "stream",
     "text": [
      "zero\n"
     ]
    }
   ],
   "source": [
    "num = int(input('Enter any integer :'))\n",
    "\n",
    "if num >= 0:\n",
    "    if num > 0:\n",
    "        print(\"Positive Number\")\n",
    "    else:\n",
    "        print('zero')\n",
    "else:\n",
    "    print(\"Negative Number\")"
   ]
  },
  {
   "cell_type": "markdown",
   "id": "9701f291-a0ad-4df6-9a78-77ed2b35fafc",
   "metadata": {},
   "source": [
    "### 15. Create a program to check if a person is a teenager (between 13 and 19 years old).\n"
   ]
  },
  {
   "cell_type": "code",
   "execution_count": 10,
   "id": "1423e846-5c2c-4ef0-b5b9-f3347a2cff8c",
   "metadata": {},
   "outputs": [
    {
     "name": "stdin",
     "output_type": "stream",
     "text": [
      "Enter Your Age: 27\n"
     ]
    },
    {
     "name": "stdout",
     "output_type": "stream",
     "text": [
      "You are not a teenager\n"
     ]
    }
   ],
   "source": [
    "age = int(input('Enter Your Age:'))\n",
    "if age >=13:\n",
    "    if age <= 19:\n",
    "        print(\"You are a Teenager\")\n",
    "    else:\n",
    "        print('You are not a teenager')"
   ]
  },
  {
   "cell_type": "markdown",
   "id": "252a1e26-4491-4a39-a058-2bcb955470ef",
   "metadata": {},
   "source": [
    "### 16. Develop a program that determines the type of angle based on its measure (acute, obtuse, or right).\n"
   ]
  },
  {
   "cell_type": "code",
   "execution_count": 13,
   "id": "65963790-9e41-4095-bfd4-b40f70407b80",
   "metadata": {},
   "outputs": [
    {
     "name": "stdin",
     "output_type": "stream",
     "text": [
      "Enter the value of angle : 15\n"
     ]
    },
    {
     "name": "stdout",
     "output_type": "stream",
     "text": [
      "It is an Acute Angle\n"
     ]
    }
   ],
   "source": [
    "angle = int(input('Enter the value of angle :'))\n",
    "if angle >= 90:\n",
    "    if angle == 90:\n",
    "        print('It is a Right Angle')\n",
    "    else:\n",
    "        print('It is an Obtuse Angle')\n",
    "else:\n",
    "    print('It is an Acute Angle')"
   ]
  },
  {
   "cell_type": "markdown",
   "id": "0a1f64ad-8a8b-4d45-98eb-d798e0e6cee7",
   "metadata": {},
   "source": [
    "### 17. Write a Python program to calculate the roots of a quadratic equation.\n"
   ]
  },
  {
   "cell_type": "code",
   "execution_count": 12,
   "id": "aa78faf9-f447-41c9-88da-bbcdf36574a9",
   "metadata": {},
   "outputs": [
    {
     "name": "stdin",
     "output_type": "stream",
     "text": [
      "Enter coefficient a:  1\n",
      "Enter coefficient b:  5\n",
      "Enter coefficient c:  6\n"
     ]
    },
    {
     "name": "stdout",
     "output_type": "stream",
     "text": [
      "Two real and distinct roots:\n",
      "Root 1: -2.0\n",
      "Root 2: -3.0\n"
     ]
    }
   ],
   "source": [
    "import math\n",
    "\n",
    "# Input coefficients a, b, and c from the user\n",
    "a = float(input(\"Enter coefficient a: \"))\n",
    "b = float(input(\"Enter coefficient b: \"))\n",
    "c = float(input(\"Enter coefficient c: \"))\n",
    "\n",
    "# Calculate the discriminant (the value inside the square root)\n",
    "discriminant = b**2 - 4*a*c\n",
    "\n",
    "# Check if the discriminant is positive, negative, or zero\n",
    "if discriminant > 0:\n",
    "    # Two real and distinct roots\n",
    "    root1 = (-b + math.sqrt(discriminant)) / (2*a)\n",
    "    root2 = (-b - math.sqrt(discriminant)) / (2*a)\n",
    "    print(\"Two real and distinct roots:\")\n",
    "    print(\"Root 1:\", root1)\n",
    "    print(\"Root 2:\", root2)\n",
    "elif discriminant == 0:\n",
    "    # One real root (double root)\n",
    "    root1 = -b / (2*a)\n",
    "    print(\"One real root (double root):\")\n",
    "    print(\"Root:\", root1)\n",
    "else:\n",
    "    print(\"roots are complex roots\")"
   ]
  },
  {
   "cell_type": "markdown",
   "id": "c4faee47-776c-4271-b91d-203d882a4ada",
   "metadata": {},
   "source": [
    "### 18. Implement a program to determine the day of the week based on a user-provided number (1 for Monday, 2 for Tuesday, etc.).\n"
   ]
  },
  {
   "cell_type": "code",
   "execution_count": 9,
   "id": "509cf3ca-337d-49f7-8f28-ff7a3d6c9ce8",
   "metadata": {},
   "outputs": [
    {
     "name": "stdin",
     "output_type": "stream",
     "text": [
      "Enter a number (1-7) to represent the day of the week:  5\n"
     ]
    },
    {
     "name": "stdout",
     "output_type": "stream",
     "text": [
      "The day of the week is: Friday\n"
     ]
    }
   ],
   "source": [
    "# Input a number from the user\n",
    "day_number = int(input(\"Enter a number (1-7) to represent the day of the week: \"))\n",
    "\n",
    "# Determine the day of the week\n",
    "if day_number == 1:\n",
    "    day_name = \"Monday\"\n",
    "elif day_number == 2:\n",
    "    day_name = \"Tuesday\"\n",
    "elif day_number == 3:\n",
    "    day_name = \"Wednesday\"\n",
    "elif day_number == 4:\n",
    "    day_name = \"Thursday\"\n",
    "elif day_number == 5:\n",
    "    day_name = \"Friday\"\n",
    "elif day_number == 6:\n",
    "    day_name = \"Saturday\"\n",
    "elif day_number == 7:\n",
    "    day_name = \"Sunday\"\n",
    "else:\n",
    "    day_name = \"Invalid day number\"\n",
    "\n",
    "# Print the result\n",
    "print(\"The day of the week is:\", day_name)\n"
   ]
  },
  {
   "cell_type": "markdown",
   "id": "eded4846-4b75-4e3c-b582-43720752477f",
   "metadata": {},
   "source": [
    "### 19. Create a program that determines if a year is a leap year and also if it is evenly divisible by 400.\n"
   ]
  },
  {
   "cell_type": "code",
   "execution_count": 2,
   "id": "42278769-1414-4ee5-ab12-b6d940e0108c",
   "metadata": {},
   "outputs": [
    {
     "name": "stdin",
     "output_type": "stream",
     "text": [
      "Enter Year : 2104\n"
     ]
    },
    {
     "name": "stdout",
     "output_type": "stream",
     "text": [
      "This is a Leap Year but not divisible by 400\n"
     ]
    }
   ],
   "source": [
    "year = int(input('Enter Year :'))\n",
    "\n",
    "if year % 100 == 0 :\n",
    "    if year % 400 == 0 :\n",
    "        print(\"This is a Leap Year and evenly divisible by 400\")\n",
    "    else:\n",
    "        print(\"This is not a Leap Year\") \n",
    "elif year % 4 == 0 :\n",
    "    print(\"This is a Leap Year but not divisible by 400\")\n",
    "else:\n",
    "    print(\"This is not a Leap Year\")  "
   ]
  },
  {
   "cell_type": "markdown",
   "id": "a5da9f48-399a-4a38-98e8-8626f2c39fac",
   "metadata": {},
   "source": [
    "### 20. Develop a program that checks if a given number is prime or not using nested if-else statements."
   ]
  },
  {
   "cell_type": "code",
   "execution_count": null,
   "id": "7c2adcd8-3882-4096-b651-5d4c2c31490f",
   "metadata": {},
   "outputs": [],
   "source": [
    "# Input a number from the user\n",
    "num = int(input(\"Enter a number: \"))\n",
    "\n",
    "# Check if the number is prime\n",
    "if num > 1:\n",
    "    # Check for factors\n",
    "    for i in range(2, num):\n",
    "        if (num % i) == 0:\n",
    "            print(num, \"is not a prime number.\")\n",
    "            break\n",
    "    else:\n",
    "        print(num, \"is a prime number.\")\n",
    "else:\n",
    "    print(num, \"is not a prime number.\")\n"
   ]
  },
  {
   "cell_type": "markdown",
   "id": "bef97fca-cdcb-4944-b3c8-be2e1dfa2e42",
   "metadata": {},
   "source": [
    "# Elif Statements:\n"
   ]
  },
  {
   "cell_type": "markdown",
   "id": "8dc5afcb-f9f0-45c1-a0db-b0933e2397f7",
   "metadata": {},
   "source": [
    "### 21. Write a Python program to assign grades based on different ranges of scores using elif statements.\n"
   ]
  },
  {
   "cell_type": "code",
   "execution_count": null,
   "id": "5b0af854-9a90-43de-bb58-709e7825cade",
   "metadata": {},
   "outputs": [],
   "source": [
    "marks = int(input('Enter your marks :'))\n",
    "if marks >= 90:\n",
    "    print('Your grade is AA')\n",
    "elif marks >=80 and marks < 90:\n",
    "    print('Your grade is A+')\n",
    "elif marks >=70 and marks < 80:\n",
    "    print('Your grade is A')\n",
    "elif marks >=50 and marks < 70:\n",
    "    print('Your grade is B')\n",
    "elif marks >=35 and marks < 50:\n",
    "    print('Your grade is C')\n",
    "else:\n",
    "    print('Your grade is D')"
   ]
  },
  {
   "cell_type": "markdown",
   "id": "4ca444fb-b752-4114-860b-10ca1c645527",
   "metadata": {},
   "source": [
    "### 22. Implement a program to determine the type of a triangle based on its angles.\n"
   ]
  },
  {
   "cell_type": "code",
   "execution_count": 12,
   "id": "4981801d-0fe7-4fdf-936e-7f4ce1276f13",
   "metadata": {},
   "outputs": [
    {
     "name": "stdin",
     "output_type": "stream",
     "text": [
      "first angle : 90\n",
      "second angle : 45\n",
      "third angle : 45\n"
     ]
    },
    {
     "name": "stdout",
     "output_type": "stream",
     "text": [
      "Right Angle Triangle\n"
     ]
    }
   ],
   "source": [
    "a1, a2, a3 = int(input(\"first angle :\")),int(input(\"second angle :\")),int(input(\"third angle :\"))\n",
    "sum = a1 + a2 + a3\n",
    "\n",
    "if sum == 180:\n",
    "    if a1 < 90 and a2 < 90 and a3 < 90:\n",
    "        print('Acute Angle Triangle')\n",
    "    elif a1 == 90 or a2 == 90 or a3 == 90:\n",
    "        print('Right Angle Triangle')\n",
    "    else:\n",
    "        print('Obtuse Angle Triangle')\n",
    "else:\n",
    "    print('It is not a Triangle')"
   ]
  },
  {
   "cell_type": "markdown",
   "id": "0f3934de-6a1c-41d5-a0c5-43b97b4d5aa5",
   "metadata": {},
   "source": [
    "### 23. Develop a program to categorize a given person's BMI into underweight, normal, overweight, or obese using elif statements.\n"
   ]
  },
  {
   "cell_type": "code",
   "execution_count": null,
   "id": "d48f4bc3-52b7-45f3-b277-82948a158a1d",
   "metadata": {},
   "outputs": [],
   "source": [
    "# Input weight (in kilograms) and height (in meters) from the user\n",
    "weight_kg = float(input(\"Enter your weight in kilograms: \"))\n",
    "height_m = float(input(\"Enter your height in meters: \"))\n",
    "\n",
    "# Calculate BMI\n",
    "bmi = weight_kg / (height_m ** 2)\n",
    "\n",
    "# Categorize BMI\n",
    "if bmi < 18.5:\n",
    "    category = \"Underweight\"\n",
    "elif 18.5 <= bmi < 24.9:\n",
    "    category = \"Normal Weight\"\n",
    "elif 25 <= bmi < 29.9:\n",
    "    category = \"Overweight\"\n",
    "else:\n",
    "    category = \"Obese\"\n",
    "\n",
    "# Print the result\n",
    "print(\"Your BMI is:\", bmi)\n",
    "print(\"You are categorized as:\", category)\n"
   ]
  },
  {
   "cell_type": "markdown",
   "id": "09c485ca-cf42-40b7-8124-19b6f8bb0938",
   "metadata": {},
   "source": [
    "### 24. Create a program that determines whether a given number is positive, negative, or zero using elif statements.\n"
   ]
  },
  {
   "cell_type": "code",
   "execution_count": 14,
   "id": "521e2b6d-f420-4ea7-b380-495a5c291bb1",
   "metadata": {},
   "outputs": [
    {
     "name": "stdin",
     "output_type": "stream",
     "text": [
      "Enter an integer : -15\n"
     ]
    },
    {
     "name": "stdout",
     "output_type": "stream",
     "text": [
      "negative number\n"
     ]
    }
   ],
   "source": [
    "num = int(input('Enter an integer :'))\n",
    "if num > 0 :\n",
    "    print('positive number')\n",
    "elif num == 0:\n",
    "    print('zero')\n",
    "else:\n",
    "    print('negative number')"
   ]
  },
  {
   "cell_type": "markdown",
   "id": "8d9e4cc2-8ed4-4bec-b210-f9b70fe584aa",
   "metadata": {},
   "source": [
    "### 25. Write a Python script to determine the type of a character (uppercase, lowercase, or special) using elif statements.\n"
   ]
  },
  {
   "cell_type": "code",
   "execution_count": 22,
   "id": "78fde1a1-022d-4589-8616-4b2d95700350",
   "metadata": {},
   "outputs": [
    {
     "name": "stdin",
     "output_type": "stream",
     "text": [
      "enter anything: 145\n"
     ]
    },
    {
     "name": "stdout",
     "output_type": "stream",
     "text": [
      "it is a Special Character\n"
     ]
    }
   ],
   "source": [
    "char = input('enter anything:')\n",
    "if char.isalpha():\n",
    "    if char.isupper() :\n",
    "        print('it is Uppercase Character')\n",
    "    elif char.islower() :\n",
    "        print('it is Lowercase Character')\n",
    "else:\n",
    "    print('it is a Special Character')"
   ]
  },
  {
   "cell_type": "markdown",
   "id": "f2bb7558-cab8-496d-b2ec-fc87e77e4fa5",
   "metadata": {},
   "source": [
    "### 26. Implement a program to calculate the discounted price based on different purchase amounts using elif statements.\n"
   ]
  },
  {
   "cell_type": "code",
   "execution_count": 37,
   "id": "1f355547-622d-4c4b-996d-4ad98b7c7dff",
   "metadata": {},
   "outputs": [
    {
     "name": "stdin",
     "output_type": "stream",
     "text": [
      "Enter the purchase amount:  5000\n"
     ]
    },
    {
     "name": "stdout",
     "output_type": "stream",
     "text": [
      "Purchase amount: $5000.00\n",
      "Discount rate: 10.0%\n",
      "Discounted price: $4500.00\n"
     ]
    }
   ],
   "source": [
    "# Input the purchase amount from the user\n",
    "purchase_amount = float(input(\"Enter the purchase amount: \"))\n",
    "\n",
    "# Initialize variables for discount rates and discounted price\n",
    "discount_rate = 0.0\n",
    "discounted_price = 0.0\n",
    "\n",
    "# Determine the discount rate based on the purchase amount\n",
    "if purchase_amount >= 1000:\n",
    "    discount_rate = 0.10  # 10% discount for purchases of $1000 or more\n",
    "elif purchase_amount >= 500:\n",
    "    discount_rate = 0.05  # 5% discount for purchases between $500 and $999.99\n",
    "\n",
    "# Calculate the discounted price\n",
    "discounted_price = purchase_amount - (purchase_amount * discount_rate)\n",
    "\n",
    "# Print the result\n",
    "print(f\"Purchase amount: ${purchase_amount:.2f}\")\n",
    "print(f\"Discount rate: {discount_rate * 100}%\")\n",
    "print(f\"Discounted price: ${discounted_price:.2f}\")\n"
   ]
  },
  {
   "cell_type": "markdown",
   "id": "7121a994-7a10-427d-a222-0e6a7822e741",
   "metadata": {},
   "source": [
    "### 27. Develop a program to calculate the electricity bill based on different consumption slabs using elif statements.\n"
   ]
  },
  {
   "cell_type": "code",
   "execution_count": 3,
   "id": "ad69488d-d5cc-4f95-997e-d6080a436232",
   "metadata": {},
   "outputs": [
    {
     "name": "stdin",
     "output_type": "stream",
     "text": [
      "enter the meter reading: 50\n"
     ]
    },
    {
     "name": "stdout",
     "output_type": "stream",
     "text": [
      "Total Bill for 50.0 unit of electricity consumption is : 350.0\n"
     ]
    }
   ],
   "source": [
    "unit = float(input('enter the meter reading:'))\n",
    "bill = 0\n",
    "cost1=7.0 \n",
    "cost2=10.0 \n",
    "cost3= 15 \n",
    "if unit <= 200:\n",
    "    bill = bill + cost1*unit #charging 7 rupees for unit consumption less than 200\n",
    "elif 200 < unit <=500:\n",
    "    bill = bill + cost1*unit #charging 10 rupees for unit consumption greater than 200 but less than 500\n",
    "else:\n",
    "    bill = bill + cost3*unit #same as 15 rupees for more than 500\n",
    "\n",
    "print('Total Bill for',unit,'unit of electricity consumption is :',bill)"
   ]
  },
  {
   "cell_type": "markdown",
   "id": "ce703bd5-9f93-4035-9372-458f84b272a4",
   "metadata": {},
   "source": [
    "### 28. Create a program to determine the type of quadrilateral based on its angles and sides using elif statements.\n"
   ]
  },
  {
   "cell_type": "code",
   "execution_count": 11,
   "id": "2caea391-af2a-4a37-85dd-49cb349ec0b8",
   "metadata": {},
   "outputs": [
    {
     "name": "stdin",
     "output_type": "stream",
     "text": [
      "Enter side AB 20\n",
      "Enter side BC 10\n",
      "Enter side CD 30\n",
      "Enter side DA 45\n",
      "Enter angle A 90\n",
      "Enter angle B 90\n",
      "Enter angle C 90\n",
      "Enter angle D 0\n"
     ]
    },
    {
     "name": "stdout",
     "output_type": "stream",
     "text": [
      "It is not a quadrilateral\n"
     ]
    }
   ],
   "source": [
    "s1,s2,s3,s4 = float(input('Enter side AB')),float(input('Enter side BC')),float(input('Enter side CD')),float(input('Enter side DA'))\n",
    "a1,a2,a3,a4 = float(input('Enter angle A')),float(input('Enter angle B')),float(input('Enter angle C')),float(input('Enter angle D'))\n",
    "if a1 + a2 + a3 + a4 == 360:\n",
    "    if a1==a2==a3==a4==90:\n",
    "        if s1==s2==s3==s4:\n",
    "            print('It is a Square')\n",
    "        elif s1==s3 and s2==s4:\n",
    "            print('It is a Rectangle')\n",
    "        else:\n",
    "            print('It is not a quadrilateral')\n",
    "    elif s1==s2==s3==s4:\n",
    "        if a1==a3 and a2==a4:\n",
    "            print('It is a Rhombus')\n",
    "        else:\n",
    "            print('It is not a quadrilateral')\n",
    "\n",
    "    elif s1==s3 and s2 != s4 or s2==s4 and s1 != s3:\n",
    "        if a1 + a2 == a3 + a4 == 180:\n",
    "            print('It is a Trapezium')\n",
    "        else:\n",
    "            print('It is not a quadrilateral')\n",
    "\n",
    "    elif s1==s2 and s3==s4:\n",
    "        print('It is a kite')\n",
    "else:\n",
    "    print('It is not a quadrilateral')"
   ]
  },
  {
   "cell_type": "markdown",
   "id": "ac827870-d892-45a9-ae1a-e09381055249",
   "metadata": {},
   "source": [
    "### 29. Write a Python script to determine the season based on a user-provided month using elif statements.\n"
   ]
  },
  {
   "cell_type": "code",
   "execution_count": null,
   "id": "cf7ea9b1-7c24-4f3f-ac45-d99009929723",
   "metadata": {},
   "outputs": [],
   "source": [
    "# Input the month from the user\n",
    "month = input(\"Enter a month (e.g., January, February, etc.): \")\n",
    "\n",
    "# Convert the input to lowercase for case-insensitive comparison\n",
    "month = month.lower()\n",
    "\n",
    "# Determine the season based on the month\n",
    "if month in {\"march\", \"april\", \"may\"}:\n",
    "    season = \"Spring\"\n",
    "elif month in {\"june\", \"july\", \"august\"}:\n",
    "    season = \"Summer\"\n",
    "elif month in {\"september\", \"october\", \"november\"}:\n",
    "    season = \"Autumn (Fall)\"\n",
    "elif month in {\"december\", \"january\", \"february\"}:\n",
    "    season = \"Winter\"\n",
    "else:\n",
    "    season = \"Invalid month\"\n",
    "\n",
    "# Print the result\n",
    "if season != \"Invalid month\":\n",
    "    print(f\"The season for {month.capitalize()} is {season}.\")\n",
    "else:\n",
    "    print(\"Invalid input. Please enter a valid month.\")\n"
   ]
  },
  {
   "cell_type": "markdown",
   "id": "748156fa-a142-4f33-9c2b-a3083ed84648",
   "metadata": {},
   "source": [
    "\n",
    "### 30. Implement a program to determine the type of a year (leap or common) and month (30 or 31 days) using elif statements."
   ]
  },
  {
   "cell_type": "code",
   "execution_count": 10,
   "id": "70073b5a-2c2e-4dcb-b28e-1f59dddb8a75",
   "metadata": {},
   "outputs": [
    {
     "name": "stdin",
     "output_type": "stream",
     "text": [
      "Enter a year :  2100\n",
      "Enter a month (e.g., January, February, etc.):  febr\n"
     ]
    },
    {
     "name": "stdout",
     "output_type": "stream",
     "text": [
      "not a leap year\n",
      "Invalid Month Name\n"
     ]
    }
   ],
   "source": [
    "year =  int(input(\"Enter a year : \"))\n",
    "month = input(\"Enter a month (e.g., January, February, etc.): \")\n",
    "month = month.lower()\n",
    "name = ''\n",
    "if year % 100 == 0 :\n",
    "    if year % 400== 0:\n",
    "        name = 'Leap Year'\n",
    "        print(name)\n",
    "    else:\n",
    "        print(\"not a leap year\")\n",
    "elif year % 4 == 0:\n",
    "    name = 'Leap Year'\n",
    "    print(name)\n",
    "else:\n",
    "    name = 'not a Leap Year'\n",
    "    print(name)\n",
    "    \n",
    "if month in {'january','march','may','july','august','october','december'}:\n",
    "    print('month contains 31 days')\n",
    "elif month in {'february'}:\n",
    "    if name == 'Leap Year':\n",
    "            print('month contains 29 days')\n",
    "    else:\n",
    "        print('month contains 28 days')\n",
    "elif month in {'april','june','september','november'}:\n",
    "    print('month contains 30 days')\n",
    "else:\n",
    "    print('Invalid Month Name')"
   ]
  },
  {
   "cell_type": "markdown",
   "id": "3ef53529-b15b-4c0b-bdd6-c77f6a7aae1b",
   "metadata": {},
   "source": [
    "# Assignment Questions\n",
    "# Basic Level:\n"
   ]
  },
  {
   "cell_type": "markdown",
   "id": "281d7453-f93d-451e-b920-278dfae8ca80",
   "metadata": {},
   "source": [
    "### 1. Write a Python program that checks if a given number is positive, negative, or zero.\n"
   ]
  },
  {
   "cell_type": "code",
   "execution_count": null,
   "id": "a7bfec7d-ab01-43ba-847d-e32a911da9c6",
   "metadata": {},
   "outputs": [],
   "source": [
    "num = int(input('Enter an integer :'))\n",
    "if num > 0 :\n",
    "    print('positive number')\n",
    "elif num == 0:\n",
    "    print('zero')\n",
    "else:\n",
    "    print('negative number')"
   ]
  },
  {
   "cell_type": "markdown",
   "id": "002eb696-4fd5-40d1-9a1a-4d1206427691",
   "metadata": {},
   "source": [
    "### 2. Create a program to determine if a person is eligible to vote based on their age."
   ]
  },
  {
   "cell_type": "code",
   "execution_count": 1,
   "id": "22ffd551-ad86-444d-9542-5207500eb1d5",
   "metadata": {},
   "outputs": [
    {
     "name": "stdin",
     "output_type": "stream",
     "text": [
      "Enter Your Age : 16\n"
     ]
    },
    {
     "name": "stdout",
     "output_type": "stream",
     "text": [
      "You are not eligible to vote\n"
     ]
    }
   ],
   "source": [
    "age = float(input('Enter Your Age :'))\n",
    "\n",
    "if age >= 18:\n",
    "    print(\"You are eligible to vote\")\n",
    "else:\n",
    "    print(\"You are not eligible to vote\")  "
   ]
  },
  {
   "cell_type": "markdown",
   "id": "fa3f6aaf-d384-4d19-9844-bc91aab0c1b5",
   "metadata": {},
   "source": [
    "### 3. Write a program to find the maximum of two given numbers using conditional statements.\n"
   ]
  },
  {
   "cell_type": "code",
   "execution_count": 3,
   "id": "7e762090-c98d-47c3-8c73-46c74cb9a259",
   "metadata": {},
   "outputs": [
    {
     "name": "stdin",
     "output_type": "stream",
     "text": [
      "enter first number : 15\n",
      "enter second number : 12\n"
     ]
    },
    {
     "name": "stdout",
     "output_type": "stream",
     "text": [
      "15 is maximum\n"
     ]
    }
   ],
   "source": [
    "num1, num2 = int(input('enter first number :')), int(input('enter second number :'))\n",
    "if num1 > num2:\n",
    "    print(num1,'is maximum')\n",
    "else:\n",
    "    print(num2, 'is maximum')"
   ]
  },
  {
   "cell_type": "markdown",
   "id": "c28d423b-affd-43ec-81e5-1c112ca14490",
   "metadata": {},
   "source": [
    "### 4. Develop a program that calculates the grade of a student based on their exam score.\n"
   ]
  },
  {
   "cell_type": "code",
   "execution_count": 4,
   "id": "a58a6efa-0364-407d-bc50-43a45dc1fbf2",
   "metadata": {},
   "outputs": [
    {
     "name": "stdin",
     "output_type": "stream",
     "text": [
      "Enter your marks : 75\n"
     ]
    },
    {
     "name": "stdout",
     "output_type": "stream",
     "text": [
      "Your grade is A\n"
     ]
    }
   ],
   "source": [
    "marks = int(input('Enter your marks :'))\n",
    "if marks >= 90:\n",
    "    print('Your grade is AA')\n",
    "elif marks >=80 and marks < 90:\n",
    "    print('Your grade is A+')\n",
    "elif marks >=70 and marks < 80:\n",
    "    print('Your grade is A')\n",
    "elif marks >=50 and marks < 70:\n",
    "    print('Your grade is B')\n",
    "elif marks >=35 and marks < 50:\n",
    "    print('Your grade is C')\n",
    "else:\n",
    "    print('Your grade is D')"
   ]
  },
  {
   "cell_type": "markdown",
   "id": "1df7081f-ad72-4f4f-937c-3686058995a4",
   "metadata": {},
   "source": [
    "### 5. Create a program that checks if a year is a leap year or not.\n"
   ]
  },
  {
   "cell_type": "code",
   "execution_count": 5,
   "id": "e14c006e-187e-4147-9bde-290d33a81600",
   "metadata": {},
   "outputs": [
    {
     "name": "stdin",
     "output_type": "stream",
     "text": [
      "Enter Year : 1996\n"
     ]
    },
    {
     "name": "stdout",
     "output_type": "stream",
     "text": [
      "This is a Leap Year\n"
     ]
    }
   ],
   "source": [
    "year = int(input('Enter Year :'))\n",
    "\n",
    "if year % 100 == 0 :\n",
    "    if year % 400 == 0 :\n",
    "        print(\"This is a Leap Year\")\n",
    "    else:\n",
    "        print(\"This is not a Leap Year\") \n",
    "elif year % 4 == 0 :\n",
    "    print(\"This is a Leap Year\")\n",
    "else:\n",
    "    print(\"This is not a Leap Year\")  "
   ]
  },
  {
   "cell_type": "markdown",
   "id": "57289fcf-7950-40a8-ba82-c4760d9438c1",
   "metadata": {},
   "source": [
    "### 6. Write a program to classify a triangle based on its sides' lengths.\n"
   ]
  },
  {
   "cell_type": "code",
   "execution_count": null,
   "id": "6ca35e3e-3444-48a5-a641-1bb4c021d7b0",
   "metadata": {},
   "outputs": [],
   "source": [
    "s1, s2, s3 = input(\"length of first side :\"),input(\"length of second side :\"),input(\"length of third side :\")\n",
    "if s1 == s2 == s3:\n",
    "    print('triangle is equilateral')\n",
    "elif s1 == s2 or s1 == s3 or s2 == s3 :\n",
    "    print('triangle is isosceles')\n",
    "else:\n",
    "    print('triangle is scalene')"
   ]
  },
  {
   "cell_type": "markdown",
   "id": "a2b2c7ba-9537-47ce-a276-4fa73676087f",
   "metadata": {},
   "source": [
    "### 7. Build a program that determines the largest of three given numbers.\n"
   ]
  },
  {
   "cell_type": "code",
   "execution_count": 6,
   "id": "9d823391-248a-49e2-99db-80a4f0fca6ef",
   "metadata": {},
   "outputs": [
    {
     "name": "stdin",
     "output_type": "stream",
     "text": [
      "enter first number : 15\n",
      "enter second number : 18\n",
      "enter third number : 11\n"
     ]
    },
    {
     "name": "stdout",
     "output_type": "stream",
     "text": [
      "18 is largest\n"
     ]
    }
   ],
   "source": [
    "num1, num2, num3 = input(\"enter first number :\"),input(\"enter second number :\"),input(\"enter third number :\")\n",
    "if num1 > num2 :\n",
    "    if num1 > num3:\n",
    "        print(num1,'is largest')\n",
    "    elif num1 < num3:\n",
    "        print(num3, 'is largest')\n",
    "elif num2 > num1 :\n",
    "    if num2 > num3:\n",
    "        print(num2,'is largest')\n",
    "    elif num2 < num3:\n",
    "        print(num3, 'is largest') "
   ]
  },
  {
   "cell_type": "markdown",
   "id": "c1a24a8f-41d7-4470-a5fd-b23b02edbe5a",
   "metadata": {},
   "source": [
    "### 8. Develop a program that checks whether a character is a vowel or a consonant.\n"
   ]
  },
  {
   "cell_type": "code",
   "execution_count": 7,
   "id": "2d2584a5-b886-4d8e-97aa-32492106ecf7",
   "metadata": {},
   "outputs": [
    {
     "name": "stdin",
     "output_type": "stream",
     "text": [
      "Enter an alphabet: p\n"
     ]
    },
    {
     "name": "stdout",
     "output_type": "stream",
     "text": [
      "This is a Consonant\n"
     ]
    }
   ],
   "source": [
    "a = (input('Enter an alphabet:'))\n",
    "vowel =['a','e','i','o','u']\n",
    "if vowel.count(a) == 1:\n",
    "    print(\"This is a Vowel\")\n",
    "else:\n",
    "    print(\"This is a Consonant\")"
   ]
  },
  {
   "cell_type": "markdown",
   "id": "aea6a11d-bafd-4116-aedd-c7597b609871",
   "metadata": {},
   "source": [
    "### 9. Create a program to calculate the total cost of a shopping cart based on discounts.\n"
   ]
  },
  {
   "cell_type": "code",
   "execution_count": 6,
   "id": "ee9d744c-54dc-49e5-ad47-a1538ca26937",
   "metadata": {},
   "outputs": [
    {
     "name": "stdout",
     "output_type": "stream",
     "text": [
      "Welcome to PW Shopping\n",
      "Here we have : {'item1': 20, 'item2': 30, 'item3': 40, 'item4': 100}\n"
     ]
    },
    {
     "name": "stdin",
     "output_type": "stream",
     "text": [
      "how many item1 do you need?  2\n",
      "how many item2 do you need? 2\n",
      "how many item3 do you need? 2\n",
      "how many item4 do you need? 2\n"
     ]
    },
    {
     "name": "stdout",
     "output_type": "stream",
     "text": [
      "Congratulations,You will get 10% discount\n",
      "before discount Your total bill was = 380 \n",
      "& after discount Your Final bill is : 342.0\n"
     ]
    }
   ],
   "source": [
    "print(\"Welcome to PW Shopping\")\n",
    "d1 = {'item1': 20 , 'item2' : 30 , 'item3' : 40, 'item4': 100}\n",
    "print('Here we have :',d1)\n",
    "item1, item2, item3, item4 = int(input('how many item1 do you need? ')), int(input('how many item2 do you need?')), int(input('how many item3 do you need?')), int(input('how many item4 do you need?'))\n",
    "\n",
    "Total = item1*20 + item2*30 + item3*40 + item4*100\n",
    "\n",
    "if Total >= 200:\n",
    "    print('Congratulations,You will get 10% discount')\n",
    "    print('before discount Your total bill was =',Total, '\\n& after discount Your Final bill is :',Total - .1*Total)\n"
   ]
  },
  {
   "cell_type": "markdown",
   "id": "26d567ec-b934-4059-a200-b100b7f0433f",
   "metadata": {},
   "source": [
    "### 10. Write a program that checks if a given number is even or odd.\n"
   ]
  },
  {
   "cell_type": "code",
   "execution_count": 13,
   "id": "fac7bd82-60a8-4192-be12-77714c67ad16",
   "metadata": {},
   "outputs": [
    {
     "name": "stdin",
     "output_type": "stream",
     "text": [
      "Enter a number : 1564\n"
     ]
    },
    {
     "name": "stdout",
     "output_type": "stream",
     "text": [
      "This is even\n"
     ]
    }
   ],
   "source": [
    "num = int(input('Enter a number :'))\n",
    "if num % 2 == 0:\n",
    "    print(\"This is even\")\n",
    "else:\n",
    "    print(\"This is odd\")"
   ]
  },
  {
   "cell_type": "markdown",
   "id": "bbcd2767-255b-4535-b81d-dffca8358c8b",
   "metadata": {},
   "source": [
    "# Intermediate Level:\n"
   ]
  },
  {
   "cell_type": "markdown",
   "id": "d0e52982-efa1-408f-b4f3-89ce611cc200",
   "metadata": {},
   "source": [
    "### 11. Write a program that calculates the roots of a quadratic equation .\n"
   ]
  },
  {
   "cell_type": "code",
   "execution_count": null,
   "id": "7c701f0f-e672-4975-842e-394750dd04e8",
   "metadata": {},
   "outputs": [],
   "source": [
    "import math\n",
    "\n",
    "# Input coefficients a, b, and c from the user\n",
    "a = float(input(\"Enter coefficient a: \"))\n",
    "b = float(input(\"Enter coefficient b: \"))\n",
    "c = float(input(\"Enter coefficient c: \"))\n",
    "\n",
    "# Calculate the discriminant (the value inside the square root)\n",
    "discriminant = b**2 - 4*a*c\n",
    "\n",
    "# Check if the discriminant is positive, negative, or zero\n",
    "if discriminant > 0:\n",
    "    # Two real and distinct roots\n",
    "    root1 = (-b + math.sqrt(discriminant)) / (2*a)\n",
    "    root2 = (-b - math.sqrt(discriminant)) / (2*a)\n",
    "    print(\"Two real and distinct roots:\")\n",
    "    print(\"Root 1:\", root1)\n",
    "    print(\"Root 2:\", root2)\n",
    "elif discriminant == 0:\n",
    "    # One real root (double root)\n",
    "    root1 = -b / (2*a)\n",
    "    print(\"One real root (double root):\")\n",
    "    print(\"Root:\", root1)\n",
    "else:\n",
    "    print(\"roots are complex roots\")"
   ]
  },
  {
   "cell_type": "markdown",
   "id": "983cc045-2531-4dd8-a170-6e678818bb59",
   "metadata": {},
   "source": [
    "### 12. Create a program that determines the day of the week based on the day number (1-7).\n"
   ]
  },
  {
   "cell_type": "code",
   "execution_count": null,
   "id": "93379d09-1afd-4ada-9ab6-f175babe1dc1",
   "metadata": {},
   "outputs": [],
   "source": [
    "# Input a number from the user\n",
    "day_number = int(input(\"Enter a number (1-7) to represent the day of the week: \"))\n",
    "\n",
    "# Determine the day of the week\n",
    "if day_number == 1:\n",
    "    day_name = \"Monday\"\n",
    "elif day_number == 2:\n",
    "    day_name = \"Tuesday\"\n",
    "elif day_number == 3:\n",
    "    day_name = \"Wednesday\"\n",
    "elif day_number == 4:\n",
    "    day_name = \"Thursday\"\n",
    "elif day_number == 5:\n",
    "    day_name = \"Friday\"\n",
    "elif day_number == 6:\n",
    "    day_name = \"Saturday\"\n",
    "elif day_number == 7:\n",
    "    day_name = \"Sunday\"\n",
    "else:\n",
    "    day_name = \"Invalid day number\"\n",
    "\n",
    "# Print the result\n",
    "print(\"The day of the week is:\", day_name)\n"
   ]
  },
  {
   "cell_type": "markdown",
   "id": "85e1e314-5c49-4c50-87f9-41a4cf71717c",
   "metadata": {},
   "source": [
    "### 13. Develop a program that calculates the factorial of a given number using recursion.\n"
   ]
  },
  {
   "cell_type": "code",
   "execution_count": 16,
   "id": "babec7d3-d8e3-47fc-911c-583a3de08912",
   "metadata": {},
   "outputs": [
    {
     "name": "stdin",
     "output_type": "stream",
     "text": [
      "Enter the number : 5\n"
     ]
    },
    {
     "data": {
      "text/plain": [
       "120"
      ]
     },
     "execution_count": 16,
     "metadata": {},
     "output_type": "execute_result"
    }
   ],
   "source": [
    "num = int(input('Enter the number :'))\n",
    "factorial = 1\n",
    "if num > 0 :\n",
    "    for i in range(1,num+1):\n",
    "        factorial = factorial*i\n",
    "factorial"
   ]
  },
  {
   "cell_type": "markdown",
   "id": "58b89a2e-4558-408c-b04e-911d30743192",
   "metadata": {},
   "source": [
    "### 14. Write a program to find the largest among three numbers without using the `max()` function.\n"
   ]
  },
  {
   "cell_type": "code",
   "execution_count": 39,
   "id": "4108bbc8-f821-45c4-90ff-f38cc07bbad5",
   "metadata": {},
   "outputs": [
    {
     "name": "stdin",
     "output_type": "stream",
     "text": [
      "enter first number : 15\n",
      "enter second number : 14\n",
      "enter third number : 19\n"
     ]
    },
    {
     "name": "stdout",
     "output_type": "stream",
     "text": [
      "19 is largest\n"
     ]
    }
   ],
   "source": [
    "num1, num2, num3 = input(\"enter first number :\"),input(\"enter second number :\"),input(\"enter third number :\")\n",
    "if num1 > num2 :\n",
    "    if num1 > num3:\n",
    "        print(num1,'is largest')\n",
    "    elif num1 < num3:\n",
    "        print(num3, 'is largest')\n",
    "elif num2 > num1 :\n",
    "    if num2 > num3:\n",
    "        print(num2,'is largest')\n",
    "    elif num2 < num3:\n",
    "        print(num3, 'is largest') "
   ]
  },
  {
   "cell_type": "markdown",
   "id": "daec5569-16be-4c52-b5ca-7add9505ae13",
   "metadata": {},
   "source": [
    "### 15. Create a program that simulates a basic ATM transaction menu."
   ]
  },
  {
   "cell_type": "code",
   "execution_count": null,
   "id": "85671dcf-713e-4d23-9e12-e657f85f8bdf",
   "metadata": {},
   "outputs": [],
   "source": [
    "print(\"Welcome to ABC Bank ATM\")\n",
    "num1, num2, num3 = input(\"enter your atm pin :\"),input(\"Do you want to Check your Balance (Y/N):\"),input(\"Do you want to Cash Withdrawl(Y/N):\"),"
   ]
  },
  {
   "cell_type": "markdown",
   "id": "0b244ec0-1369-4db1-96fa-d85fe9fb1c1a",
   "metadata": {},
   "source": [
    "### 16. Build a program that checks if a given string is a palindrome or not."
   ]
  },
  {
   "cell_type": "code",
   "execution_count": 2,
   "id": "844e76ce-1780-40b6-ae60-a0c411e0d396",
   "metadata": {},
   "outputs": [
    {
     "name": "stdin",
     "output_type": "stream",
     "text": [
      "Enter a String ankna\n"
     ]
    },
    {
     "name": "stdout",
     "output_type": "stream",
     "text": [
      "it is a palindrome\n"
     ]
    }
   ],
   "source": [
    "string = input('Enter a String')\n",
    "if string == string[::-1]:\n",
    "    print('it is a palindrome')\n",
    "else:\n",
    "    print('it is not a palindrome')"
   ]
  },
  {
   "cell_type": "markdown",
   "id": "0550eede-df59-4102-aef1-67c6296494c0",
   "metadata": {},
   "source": [
    "### 17. Write a program that calculates the average of a list of numbers, excluding the smallest and largest values."
   ]
  },
  {
   "cell_type": "code",
   "execution_count": 12,
   "id": "743ae7d3-ddc7-4320-8aad-1de13c325131",
   "metadata": {},
   "outputs": [
    {
     "data": {
      "text/plain": [
       "[552, 24, 12, 314, 31, 2, 354, 1351, 415, 3]"
      ]
     },
     "execution_count": 12,
     "metadata": {},
     "output_type": "execute_result"
    }
   ],
   "source": [
    "l1 = [552,24,12,314,31,2,354,1351,415,3]\n",
    "l2 = []\n",
    "largest = 0\n",
    "for i in l1:\n",
    "    if i > largest:\n",
    "        largest = i\n",
    "        \n",
    "smallest = largest\n",
    "for i in l1:\n",
    "    if i < smallest:\n",
    "        smallest = i\n",
    "\n",
    "for i in l1:\n",
    "    if l1 != largest and l1 != smallest:\n",
    "        l2.append(i)\n",
    "l2"
   ]
  },
  {
   "cell_type": "markdown",
   "id": "ccdc169a-aec0-4a44-944a-33eb19bf1e84",
   "metadata": {},
   "source": [
    "### 18. Develop a program that converts a given temperature from Celsius to Fahrenheit."
   ]
  },
  {
   "cell_type": "code",
   "execution_count": 7,
   "id": "41cc8ee3-3af6-423e-a015-2232de9a0a74",
   "metadata": {},
   "outputs": [
    {
     "name": "stdin",
     "output_type": "stream",
     "text": [
      "Enter celsius scale value -40\n"
     ]
    },
    {
     "name": "stdout",
     "output_type": "stream",
     "text": [
      "-40.0 degree celsius is equal to -40.0 degree farenheit\n"
     ]
    }
   ],
   "source": [
    "c = float(input('Enter celsius scale value'))\n",
    "f = c*9/5 + 32\n",
    "print(c,'degree celsius is equal to',f,'degree farenheit')"
   ]
  },
  {
   "cell_type": "markdown",
   "id": "2343d602-bb1a-47ba-8847-3f02ac9320d0",
   "metadata": {},
   "source": [
    "### 19. Create a program that simulates a basic calculator for addition, subtraction, multiplication, and division."
   ]
  },
  {
   "cell_type": "code",
   "execution_count": 10,
   "id": "d6904d4b-62ab-4a84-b2d6-6defef83a786",
   "metadata": {},
   "outputs": [
    {
     "name": "stdin",
     "output_type": "stream",
     "text": [
      "first num 15\n",
      "second num 10\n",
      "enter \"add\" for addition, \"sub\" for subtraction, \"div\" for division and \"mult\" for multiplication : add\n"
     ]
    },
    {
     "name": "stdout",
     "output_type": "stream",
     "text": [
      "15.0 + 10.0 is = 25.0\n"
     ]
    }
   ],
   "source": [
    "a,b = float(input('first num')), float(input('second num'))\n",
    "operator = input('enter \"add\" for addition, \"sub\" for subtraction, \"div\" for division and \"mult\" for multiplication :')\n",
    "\n",
    "if operator == 'add':\n",
    "    print(a,'+',b,'is =',a+b)\n",
    "elif operator == 'sub':\n",
    "    print(a,'-',b,'is =',a-b)\n",
    "elif operator == 'mult':\n",
    "    print(a,'*',b,'is =',a*b)\n",
    "else:\n",
    "    print(a,'/',b,'is =',a/b)"
   ]
  },
  {
   "cell_type": "markdown",
   "id": "f85b6bf0-cd2a-4368-92f1-4de2e52be96d",
   "metadata": {},
   "source": [
    "### 20. Write a program that determines the roots of a cubic equation using the Cardano formula."
   ]
  },
  {
   "cell_type": "code",
   "execution_count": 18,
   "id": "48cef825-84e8-4f65-93a9-74dcf7f95c45",
   "metadata": {},
   "outputs": [
    {
     "name": "stdin",
     "output_type": "stream",
     "text": [
      "Enter the coefficient a:  10\n",
      "Enter the coefficient b:  5\n",
      "Enter the coefficient c:  4\n",
      "Enter the coefficient d:  6\n"
     ]
    },
    {
     "name": "stdout",
     "output_type": "stream",
     "text": [
      "Roots of the cubic equation:\n",
      "Root 1: 0.370932+0.707289j\n",
      "Root 2: 0.177064-0.595359j\n",
      "Root 3: -1.047996-0.111930j\n"
     ]
    }
   ],
   "source": [
    "import math\n",
    "\n",
    "# Input coefficients of the cubic equation: ax^3 + bx^2 + cx + d = 0\n",
    "a = float(input(\"Enter the coefficient a: \"))\n",
    "b = float(input(\"Enter the coefficient b: \"))\n",
    "c = float(input(\"Enter the coefficient c: \"))\n",
    "d = float(input(\"Enter the coefficient d: \"))\n",
    "\n",
    "# Calculate intermediate variables\n",
    "p = (3 * a * c - b ** 2) / (3 * a ** 2)\n",
    "q = (2 * b ** 3 - 9 * a * b * c + 27 * a ** 2 * d) / (27 * a ** 3)\n",
    "\n",
    "# Calculate the discriminant\n",
    "discriminant = (q ** 2 / 4) + (p ** 3 / 27)\n",
    "\n",
    "# Check the discriminant for real roots\n",
    "if discriminant > 0:\n",
    "    # One real root and two complex roots\n",
    "    r = (-q / 2 + math.sqrt(discriminant)) ** (1 / 3)\n",
    "    s = (-q / 2 - math.sqrt(discriminant)) ** (1 / 3)\n",
    "    real_root = r + s - b / (3 * a)\n",
    "    complex_root1 = complex(-(r + s) / 2 - b / (3 * a), (r - s) * math.sqrt(3) / 2)\n",
    "    complex_root2 = complex(-(r + s) / 2 - b / (3 * a), -(r - s) * math.sqrt(3) / 2)\n",
    "    roots = [real_root, complex_root1, complex_root2]\n",
    "elif discriminant == 0:\n",
    "    # Three real roots (two are equal)\n",
    "    if q >= 0:\n",
    "        root = (-(q / 2)) ** (1 / 3)\n",
    "    else:\n",
    "        root = (-(-(q / 2)) ** (1 / 3))\n",
    "    real_root1 = 2 * root - b / (3 * a)\n",
    "    real_root2 = -root - b / (3 * a)\n",
    "    roots = [real_root1, real_root2, real_root2]\n",
    "else:\n",
    "    # Three real roots\n",
    "    phi = math.acos(-q / 2 * math.sqrt(-27 / p ** 3))\n",
    "    root1 = 2 * math.sqrt(-p / 3) * math.cos(phi / 3) - b / (3 * a)\n",
    "    root2 = 2 * math.sqrt(-p / 3) * math.cos((phi + 2 * math.pi) / 3) - b / (3 * a)\n",
    "    root3 = 2 * math.sqrt(-p / 3) * math.cos((phi + 4 * math.pi) / 3) - b / (3 * a)\n",
    "    roots = [root1, root2, root3]\n",
    "\n",
    "# Print the roots\n",
    "print(\"Roots of the cubic equation:\")\n",
    "for i, root in enumerate(roots):\n",
    "    print(f\"Root {i + 1}: {root:.6f}\")"
   ]
  },
  {
   "cell_type": "markdown",
   "id": "4295ade0-1fee-4815-9dca-bc73944b39ee",
   "metadata": {},
   "source": [
    "# Advanced Level:"
   ]
  },
  {
   "cell_type": "markdown",
   "id": "54d759b0-7752-4c42-917f-b460d34267b4",
   "metadata": {},
   "source": [
    "### 21. Create a program that calculates the income tax based on the user's income and tax brackets.\n"
   ]
  },
  {
   "cell_type": "code",
   "execution_count": 12,
   "id": "3faa3c8f-2ae4-4264-b132-44aaddb0d8bd",
   "metadata": {},
   "outputs": [
    {
     "name": "stdin",
     "output_type": "stream",
     "text": [
      "Enter your annual income:  100000\n"
     ]
    },
    {
     "name": "stdout",
     "output_type": "stream",
     "text": [
      "Your income tax for the year is: $23999.50\n"
     ]
    }
   ],
   "source": [
    "# Define tax brackets and their corresponding tax rates\n",
    "tax_brackets = [\n",
    "    (0, 10000, 0.10),\n",
    "    (10001, 50000, 0.20),\n",
    "    (50001, 100000, 0.30),\n",
    "    (100001, float(\"inf\"), 0.40),\n",
    "]\n",
    "\n",
    "# Input the user's income\n",
    "income = float(input(\"Enter your annual income: \"))\n",
    "\n",
    "# Initialize the total tax\n",
    "total_tax = 0.0\n",
    "\n",
    "# Calculate the tax based on the tax brackets\n",
    "for bracket in tax_brackets:\n",
    "    min_income, max_income, tax_rate = bracket\n",
    "    if income <= min_income:\n",
    "        continue\n",
    "    taxable_income = min(max_income, income) - min_income\n",
    "    tax_amount = taxable_income * tax_rate\n",
    "    total_tax += tax_amount\n",
    "\n",
    "# Print the calculated income tax\n",
    "print(f\"Your income tax for the year is: ${total_tax:.2f}\")\n"
   ]
  },
  {
   "cell_type": "markdown",
   "id": "d7bbe522-aa98-4a7c-b41c-2ab5a8d19e6e",
   "metadata": {},
   "source": [
    "### 22. Write a program that simulates a rock-paper-scissors game against the computer.\n"
   ]
  },
  {
   "cell_type": "code",
   "execution_count": null,
   "id": "dff1af49-7615-4af2-bf3a-e031b71f7d30",
   "metadata": {},
   "outputs": [],
   "source": [
    "import random\n",
    "\n",
    "# Function to get the computer's choice\n",
    "def get_computer_choice():\n",
    "    choices = [\"rock\", \"paper\", \"scissors\"]\n",
    "    return random.choice(choices)\n",
    "\n",
    "# Function to determine the winner\n",
    "def determine_winner(player_choice, computer_choice):\n",
    "    if player_choice == computer_choice:\n",
    "        return \"It's a tie!\"\n",
    "    elif player_choice == \"rock\":\n",
    "        return \"You win!\" if computer_choice == \"scissors\" else \"Computer wins!\"\n",
    "    elif player_choice == \"paper\":\n",
    "        return \"You win!\" if computer_choice == \"rock\" else \"Computer wins!\"\n",
    "    elif player_choice == \"scissors\":\n",
    "        return \"You win!\" if computer_choice == \"paper\" else \"Computer wins!\"\n",
    "\n",
    "# Main game loop\n",
    "while True:\n",
    "    # Get the player's choice\n",
    "    player_choice = input(\"Enter your choice (rock, paper, or scissors): \").lower()\n",
    "    \n",
    "    # Check if the player's choice is valid\n",
    "    if player_choice not in [\"rock\", \"paper\", \"scissors\"]:\n",
    "        print(\"Invalid choice. Please choose rock, paper, or scissors.\")\n",
    "        continue\n",
    "    \n",
    "    # Get the computer's choice\n",
    "    computer_choice = get_computer_choice()\n",
    "    \n",
    "    # Determine the winner\n",
    "    result = determine_winner(player_choice, computer_choice)\n",
    "    \n",
    "    # Display the choices and result\n",
    "    print(f\"Your choice: {player_choice}\")\n",
    "    print(f\"Computer's choice: {computer_choice}\")\n",
    "    print(result)\n",
    "    \n",
    "    # Ask the player if they want to play again\n",
    "    play_again = input(\"Do you want to play again? (yes/no): \").lower()\n",
    "    if play_again != \"yes\":\n",
    "        break\n",
    "\n",
    "print(\"Thanks for playing!\")\n"
   ]
  },
  {
   "cell_type": "markdown",
   "id": "cb79c45e-8f41-4f97-81a0-6225fd49233b",
   "metadata": {},
   "source": [
    "### 23. Develop a program that generates a random password based on user preferences (length, complexity).\n"
   ]
  },
  {
   "cell_type": "code",
   "execution_count": 14,
   "id": "9752c1b9-a32f-488d-a498-8aa35273b84b",
   "metadata": {},
   "outputs": [
    {
     "name": "stdin",
     "output_type": "stream",
     "text": [
      "Enter the desired password length:  10\n",
      "Include lowercase letters? (yes/no):  no\n",
      "Include uppercase letters? (yes/no):  no\n",
      "Include digits? (yes/no):  no\n",
      "Include special characters? (yes/no):  no\n"
     ]
    },
    {
     "name": "stdout",
     "output_type": "stream",
     "text": [
      "Generated Password: No character set selected. Please choose at least one.\n"
     ]
    }
   ],
   "source": [
    "import random\n",
    "import string\n",
    "\n",
    "# Function to generate a random password\n",
    "def generate_password(length, use_lowercase, use_uppercase, use_digits, use_special_chars):\n",
    "    # Define character sets based on complexity options\n",
    "    lowercase_chars = string.ascii_lowercase if use_lowercase else ''\n",
    "    uppercase_chars = string.ascii_uppercase if use_uppercase else ''\n",
    "    digit_chars = string.digits if use_digits else ''\n",
    "    special_chars = string.punctuation if use_special_chars else ''\n",
    "\n",
    "    # Combine character sets based on user preferences\n",
    "    all_chars = lowercase_chars + uppercase_chars + digit_chars + special_chars\n",
    "\n",
    "    # Check if at least one character set is selected\n",
    "    if not all_chars:\n",
    "        return \"No character set selected. Please choose at least one.\"\n",
    "\n",
    "    # Generate the password\n",
    "    password = ''.join(random.choice(all_chars) for _ in range(length))\n",
    "    return password\n",
    "\n",
    "# Input user preferences for password generation\n",
    "length = int(input(\"Enter the desired password length: \"))\n",
    "use_lowercase = input(\"Include lowercase letters? (yes/no): \").lower() == 'yes'\n",
    "use_uppercase = input(\"Include uppercase letters? (yes/no): \").lower() == 'yes'\n",
    "use_digits = input(\"Include digits? (yes/no): \").lower() == 'yes'\n",
    "use_special_chars = input(\"Include special characters? (yes/no): \").lower() == 'yes'\n",
    "\n",
    "# Generate and display the password\n",
    "password = generate_password(length, use_lowercase, use_uppercase, use_digits, use_special_chars)\n",
    "print(\"Generated Password:\", password)"
   ]
  },
  {
   "cell_type": "markdown",
   "id": "25cd87ae-c6f6-4c9d-ba94-da2724f23a1f",
   "metadata": {},
   "source": [
    "### 24. Create a program that implements a simple text-based adventure game with branching scenarios.\n"
   ]
  },
  {
   "cell_type": "code",
   "execution_count": 15,
   "id": "d22eca1e-4b1a-4e63-aed1-1bf17b5f510f",
   "metadata": {},
   "outputs": [
    {
     "name": "stdout",
     "output_type": "stream",
     "text": [
      "Welcome to the Adventure Game!\n",
      "\n",
      "You are in a dark forest. You see a fork in the path ahead.\n",
      "\n",
      "Your choices:\n",
      "1. Go left\n",
      "2. Go right\n"
     ]
    },
    {
     "name": "stdin",
     "output_type": "stream",
     "text": [
      "Enter your choice:  1\n"
     ]
    },
    {
     "name": "stdout",
     "output_type": "stream",
     "text": [
      "\n",
      "You encounter a friendly squirrel.\n",
      "\n",
      "Your choices:\n",
      "1. Feed the squirrel\n",
      "2. Ignore the squirrel\n"
     ]
    },
    {
     "name": "stdin",
     "output_type": "stream",
     "text": [
      "Enter your choice:  2\n"
     ]
    },
    {
     "name": "stdout",
     "output_type": "stream",
     "text": [
      "\n",
      "The squirrel seems offended and scurries away.\n",
      "\n",
      "Thank you for playing the Adventure Game! Goodbye!\n"
     ]
    }
   ],
   "source": [
    "import time\n",
    "\n",
    "# Function to print messages with a delay\n",
    "def print_with_delay(message, delay=1):\n",
    "    print(message)\n",
    "    time.sleep(delay)\n",
    "\n",
    "# Function to handle user choices\n",
    "def get_user_choice(choices):\n",
    "    while True:\n",
    "        print(\"\\nYour choices:\")\n",
    "        for i, choice in enumerate(choices, start=1):\n",
    "            print(f\"{i}. {choice}\")\n",
    "        \n",
    "        try:\n",
    "            choice_index = int(input(\"Enter your choice: \")) - 1\n",
    "            if 0 <= choice_index < len(choices):\n",
    "                return choice_index\n",
    "            else:\n",
    "                print(\"Invalid choice. Please select a valid option.\")\n",
    "        except ValueError:\n",
    "            print(\"Invalid input. Please enter a number.\")\n",
    "\n",
    "# Start of the game\n",
    "print_with_delay(\"Welcome to the Adventure Game!\", 1.5)\n",
    "\n",
    "# Scenario 1\n",
    "print_with_delay(\"\\nYou are in a dark forest. You see a fork in the path ahead.\")\n",
    "choice1 = get_user_choice([\"Go left\", \"Go right\"])\n",
    "\n",
    "if choice1 == 0:\n",
    "    # Scenario 2\n",
    "    print_with_delay(\"\\nYou encounter a friendly squirrel.\", 1.5)\n",
    "    choice2 = get_user_choice([\"Feed the squirrel\", \"Ignore the squirrel\"])\n",
    "    \n",
    "    if choice2 == 0:\n",
    "        print_with_delay(\"\\nThe squirrel is happy and guides you out of the forest.\", 2)\n",
    "    else:\n",
    "        print_with_delay(\"\\nThe squirrel seems offended and scurries away.\", 2)\n",
    "else:\n",
    "    # Scenario 3\n",
    "    print_with_delay(\"\\nYou find a mysterious cave entrance.\", 1.5)\n",
    "    choice3 = get_user_choice([\"Enter the cave\", \"Stay outside\"])\n",
    "    \n",
    "    if choice3 == 0:\n",
    "        # Scenario 4\n",
    "        print_with_delay(\"\\nInside the cave, you discover a hidden treasure chest!\", 1.5)\n",
    "        print_with_delay(\"Congratulations, you have won the game!\", 2)\n",
    "    else:\n",
    "        print_with_delay(\"\\nYou decide to stay outside and continue your journey.\", 2)\n",
    "\n",
    "print_with_delay(\"\\nThank you for playing the Adventure Game! Goodbye!\", 1.5)\n"
   ]
  },
  {
   "cell_type": "markdown",
   "id": "14511c05-40ab-4652-89d2-fcd33b5275f7",
   "metadata": {},
   "source": [
    "### 25. Build a program that solves a linear equation for x, considering different cases.\n"
   ]
  },
  {
   "cell_type": "code",
   "execution_count": null,
   "id": "48783a0d-7d46-4bb3-a2b2-8fdc9f086c01",
   "metadata": {},
   "outputs": [],
   "source": [
    "# Input coefficients a, b, and c\n",
    "a = float(input(\"Enter the coefficient a: \"))\n",
    "b = float(input(\"Enter the coefficient b: \"))\n",
    "c = float(input(\"Enter the constant c: \"))\n",
    "\n",
    "# Check different cases and solve for x\n",
    "if a == 0:\n",
    "    if b == c:\n",
    "        print(\"Infinite solutions (x can be any real number)\")\n",
    "    else:\n",
    "        print(\"No solution (contradictory equation)\")\n",
    "else:\n",
    "    x = (c - b) / a\n",
    "    print(f\"The solution for x is x = {x}\")\n"
   ]
  },
  {
   "cell_type": "markdown",
   "id": "96f6d54b-5373-4f55-b09d-1b122b61a964",
   "metadata": {},
   "source": [
    "### 26. Write a program that simulates a basic quiz game with multiple-choice questions and scoring.\n"
   ]
  },
  {
   "cell_type": "code",
   "execution_count": 16,
   "id": "8fcc1a85-3122-44eb-9755-a277a1b11935",
   "metadata": {},
   "outputs": [
    {
     "name": "stdout",
     "output_type": "stream",
     "text": [
      "Welcome to the Quiz Game!\n"
     ]
    },
    {
     "name": "stdin",
     "output_type": "stream",
     "text": [
      "Enter your name:  Ankan Sadhu\n"
     ]
    },
    {
     "name": "stdout",
     "output_type": "stream",
     "text": [
      "Hello, Ankan Sadhu!\n",
      "What is the capital of France?\n",
      "1. Paris\n",
      "2. London\n",
      "3. Berlin\n",
      "4. Madrid\n"
     ]
    },
    {
     "name": "stdin",
     "output_type": "stream",
     "text": [
      "Enter the number of your answer:  1\n"
     ]
    },
    {
     "name": "stdout",
     "output_type": "stream",
     "text": [
      "Correct!\n",
      "What is the largest mammal in the world?\n",
      "1. Elephant\n",
      "2. Giraffe\n",
      "3. Blue Whale\n",
      "4. Kangaroo\n"
     ]
    },
    {
     "name": "stdin",
     "output_type": "stream",
     "text": [
      "Enter the number of your answer:  2\n"
     ]
    },
    {
     "name": "stdout",
     "output_type": "stream",
     "text": [
      "Wrong! The correct answer is: Blue Whale\n",
      "Which planet is known as the Red Planet?\n",
      "1. Earth\n",
      "2. Mars\n",
      "3. Venus\n",
      "4. Jupiter\n"
     ]
    },
    {
     "name": "stdin",
     "output_type": "stream",
     "text": [
      "Enter the number of your answer:  e\n"
     ]
    },
    {
     "name": "stdout",
     "output_type": "stream",
     "text": [
      "Invalid input. Please enter a number.\n"
     ]
    },
    {
     "name": "stdin",
     "output_type": "stream",
     "text": [
      "Enter the number of your answer:  2\n"
     ]
    },
    {
     "name": "stdout",
     "output_type": "stream",
     "text": [
      "Correct!\n",
      "Quiz completed, Ankan Sadhu!\n",
      "Your score: 2/3\n"
     ]
    }
   ],
   "source": [
    "import random\n",
    "\n",
    "# Quiz questions and answers\n",
    "questions = [\n",
    "    {\n",
    "        \"question\": \"What is the capital of France?\",\n",
    "        \"options\": [\"Paris\", \"London\", \"Berlin\", \"Madrid\"],\n",
    "        \"answer\": \"Paris\"\n",
    "    },\n",
    "    {\n",
    "        \"question\": \"Which planet is known as the Red Planet?\",\n",
    "        \"options\": [\"Earth\", \"Mars\", \"Venus\", \"Jupiter\"],\n",
    "        \"answer\": \"Mars\"\n",
    "    },\n",
    "    {\n",
    "        \"question\": \"What is the largest mammal in the world?\",\n",
    "        \"options\": [\"Elephant\", \"Giraffe\", \"Blue Whale\", \"Kangaroo\"],\n",
    "        \"answer\": \"Blue Whale\"\n",
    "    }\n",
    "]\n",
    "\n",
    "# Function to shuffle the questions\n",
    "def shuffle_questions(questions):\n",
    "    random.shuffle(questions)\n",
    "\n",
    "# Function to present a question and get the user's answer\n",
    "def ask_question(question):\n",
    "    print(question[\"question\"])\n",
    "    for i, option in enumerate(question[\"options\"], start=1):\n",
    "        print(f\"{i}. {option}\")\n",
    "    \n",
    "    while True:\n",
    "        try:\n",
    "            choice = int(input(\"Enter the number of your answer: \"))\n",
    "            if 1 <= choice <= len(question[\"options\"]):\n",
    "                return question[\"options\"][choice - 1]\n",
    "            else:\n",
    "                print(\"Invalid choice. Please enter a valid option number.\")\n",
    "        except ValueError:\n",
    "            print(\"Invalid input. Please enter a number.\")\n",
    "\n",
    "# Function to run the quiz\n",
    "def run_quiz(questions):\n",
    "    shuffle_questions(questions)\n",
    "    score = 0\n",
    "    \n",
    "    for question in questions:\n",
    "        user_answer = ask_question(question)\n",
    "        if user_answer == question[\"answer\"]:\n",
    "            print(\"Correct!\")\n",
    "            score += 1\n",
    "        else:\n",
    "            print(f\"Wrong! The correct answer is: {question['answer']}\")\n",
    "    \n",
    "    return score\n",
    "\n",
    "# Main program\n",
    "print(\"Welcome to the Quiz Game!\")\n",
    "player_name = input(\"Enter your name: \")\n",
    "print(f\"Hello, {player_name}!\")\n",
    "\n",
    "total_questions = len(questions)\n",
    "player_score = run_quiz(questions)\n",
    "\n",
    "print(f\"Quiz completed, {player_name}!\")\n",
    "print(f\"Your score: {player_score}/{total_questions}\")\n"
   ]
  },
  {
   "cell_type": "markdown",
   "id": "d1b47259-2625-4739-b2a8-c3a259783a70",
   "metadata": {},
   "source": [
    "### 27. Develop a program that determines whether a given year is a prime number or not.\n"
   ]
  },
  {
   "cell_type": "code",
   "execution_count": 27,
   "id": "39441ae9-7a51-416a-923a-624974ba4198",
   "metadata": {},
   "outputs": [
    {
     "name": "stdin",
     "output_type": "stream",
     "text": [
      "Enter a year:  2023\n"
     ]
    },
    {
     "name": "stdout",
     "output_type": "stream",
     "text": [
      "2023 is not a prime year.\n"
     ]
    }
   ],
   "source": [
    "# Function to check if a number is prime\n",
    "def is_prime(number):\n",
    "    if number <= 1:\n",
    "        return False\n",
    "    if number <= 3:\n",
    "        return True\n",
    "    if number % 2 == 0 or number % 3 == 0:\n",
    "        return False\n",
    "    i = 5\n",
    "    while i * i <= number:\n",
    "        if number % i == 0 or number % (i + 2) == 0:\n",
    "            return False\n",
    "        i += 6\n",
    "    return True\n",
    "\n",
    "# Input year from the user\n",
    "year = int(input(\"Enter a year: \"))\n",
    "\n",
    "# Check if the year is prime or not\n",
    "if is_prime(year):\n",
    "    print(f\"{year} is a prime year.\")\n",
    "else:\n",
    "    print(f\"{year} is not a prime year.\")\n"
   ]
  },
  {
   "cell_type": "markdown",
   "id": "823719ae-fec2-4c47-8128-57a48b885d30",
   "metadata": {},
   "source": [
    "### 28. Create a program that sorts three numbers in ascending order using conditional statements.\n"
   ]
  },
  {
   "cell_type": "code",
   "execution_count": 28,
   "id": "40c4d097-63cb-4b9f-8c3f-1f1fcb535312",
   "metadata": {},
   "outputs": [
    {
     "name": "stdin",
     "output_type": "stream",
     "text": [
      "Enter the first number:  10\n",
      "Enter the second number:  15\n",
      "Enter the third number:  45\n"
     ]
    },
    {
     "name": "stdout",
     "output_type": "stream",
     "text": [
      "Numbers in ascending order: [10.0, 15.0, 45.0]\n"
     ]
    }
   ],
   "source": [
    "# Input three numbers from the user\n",
    "num1 = float(input(\"Enter the first number: \"))\n",
    "num2 = float(input(\"Enter the second number: \"))\n",
    "num3 = float(input(\"Enter the third number: \"))\n",
    "\n",
    "# Use conditional statements to sort the numbers\n",
    "if num1 <= num2 <= num3:\n",
    "    sorted_nums = [num1, num2, num3]\n",
    "elif num1 <= num3 <= num2:\n",
    "    sorted_nums = [num1, num3, num2]\n",
    "elif num2 <= num1 <= num3:\n",
    "    sorted_nums = [num2, num1, num3]\n",
    "elif num2 <= num3 <= num1:\n",
    "    sorted_nums = [num2, num3, num1]\n",
    "elif num3 <= num1 <= num2:\n",
    "    sorted_nums = [num3, num1, num2]\n",
    "else:\n",
    "    sorted_nums = [num3, num2, num1]\n",
    "\n",
    "# Print the sorted numbers\n",
    "print(\"Numbers in ascending order:\", sorted_nums)\n"
   ]
  },
  {
   "cell_type": "markdown",
   "id": "f055e3de-ba7c-47dd-b060-b8dbaca47761",
   "metadata": {},
   "source": [
    "### 29. Build a program that determines the roots of a quadrtic equation using numerical methods."
   ]
  },
  {
   "cell_type": "code",
   "execution_count": null,
   "id": "399ef888-dd50-43d4-9584-452869de48f5",
   "metadata": {},
   "outputs": [],
   "source": [
    "import math\n",
    "\n",
    "# Input coefficients a, b, and c\n",
    "a = float(input(\"Enter the coefficient a: \"))\n",
    "b = float(input(\"Enter the coefficient b: \"))\n",
    "c = float(input(\"Enter the coefficient c: \"))\n",
    "\n",
    "# Calculate the discriminant (D)\n",
    "D = b**2 - 4*a*c\n",
    "\n",
    "# Check the discriminant for real roots\n",
    "if D > 0:\n",
    "    root1 = (-b + math.sqrt(D)) / (2*a)\n",
    "    root2 = (-b - math.sqrt(D)) / (2*a)\n",
    "    print(f\"Two distinct real roots: x1 = {root1}, x2 = {root2}\")\n",
    "elif D == 0:\n",
    "    root1 = -b / (2*a)\n",
    "    print(f\"One real root (double root): x = {root1}\")\n",
    "else:\n",
    "    real_part = -b / (2*a)\n",
    "    imaginary_part = math.sqrt(abs(D)) / (2*a)\n",
    "    print(f\"Two complex roots: x1 = {real_part} + {imaginary_part}i, x2 = {real_part} - {imaginary_part}i\")\n"
   ]
  },
  {
   "cell_type": "markdown",
   "id": "9bff6618-8975-4ea0-ad98-153d371202b7",
   "metadata": {},
   "source": [
    "### 30. Write a program that calculates the BMI (Body Mass Index) and provides health recommendations based on the user's input.\n"
   ]
  },
  {
   "cell_type": "code",
   "execution_count": 32,
   "id": "47a0f769-922f-45e9-be40-6bce132f90c7",
   "metadata": {},
   "outputs": [
    {
     "name": "stdin",
     "output_type": "stream",
     "text": [
      "Enter your weight in kilograms:  50.15\n",
      "Enter your height in meters:  1.6\n"
     ]
    },
    {
     "name": "stdout",
     "output_type": "stream",
     "text": [
      "Your BMI is 19.59\n",
      "Your BMI is within the healthy range. Keep up the good work!\n"
     ]
    }
   ],
   "source": [
    "# Function to calculate BMI\n",
    "def calculate_bmi(weight, height):\n",
    "    return weight / (height ** 2)\n",
    "\n",
    "# Function to provide health recommendations based on BMI\n",
    "def health_recommendations(bmi):\n",
    "    if bmi < 18.5:\n",
    "        return \"You are underweight. It's important to maintain a balanced diet and consider consulting a healthcare professional.\"\n",
    "    elif 18.5 <= bmi < 24.9:\n",
    "        return \"Your BMI is within the healthy range. Keep up the good work!\"\n",
    "    elif 25.0 <= bmi < 29.9:\n",
    "        return \"You are overweight. Consider adopting a healthier diet and increasing physical activity.\"\n",
    "    else:\n",
    "        return \"You are obese. It's crucial to consult a healthcare professional for a personalized plan.\"\n",
    "\n",
    "# Input user's weight and height\n",
    "weight = float(input(\"Enter your weight in kilograms: \"))\n",
    "height = float(input(\"Enter your height in meters: \"))\n",
    "\n",
    "# Calculate BMI\n",
    "bmi = calculate_bmi(weight, height)\n",
    "\n",
    "# Display BMI and health recommendations\n",
    "print(f\"Your BMI is {bmi:.2f}\")\n",
    "print(health_recommendations(bmi))\n"
   ]
  },
  {
   "cell_type": "markdown",
   "id": "82e878ca-febd-42d4-9f50-69344e97a34e",
   "metadata": {},
   "source": [
    "# Challenge Level:"
   ]
  },
  {
   "cell_type": "markdown",
   "id": "7502bfb3-e760-4a18-90a1-66691dc53647",
   "metadata": {},
   "source": [
    "### 31. Create a program that validates a password based on complexity rules (length, characters, etc.).\n"
   ]
  },
  {
   "cell_type": "code",
   "execution_count": 33,
   "id": "98c7ca97-c380-49a9-87b8-2a1fab8598a5",
   "metadata": {},
   "outputs": [
    {
     "name": "stdin",
     "output_type": "stream",
     "text": [
      "Enter a password:  ankan123\n"
     ]
    },
    {
     "name": "stdout",
     "output_type": "stream",
     "text": [
      "Password does not meet complexity rules.\n"
     ]
    }
   ],
   "source": [
    "import re\n",
    "\n",
    "def is_valid_password(password):\n",
    "    # Check if the password meets complexity rules\n",
    "    if len(password) < 8:\n",
    "        return False\n",
    "    if not re.search(r'[A-Z]', password):\n",
    "        return False\n",
    "    if not re.search(r'[a-z]', password):\n",
    "        return False\n",
    "    if not re.search(r'[0-9]', password):\n",
    "        return False\n",
    "    if not re.search(r'[!@#$%^&*()_+{}:<>?]', password):\n",
    "        return False\n",
    "    return True\n",
    "\n",
    "password = input(\"Enter a password: \")\n",
    "if is_valid_password(password):\n",
    "    print(\"Password is valid.\")\n",
    "else:\n",
    "    print(\"Password does not meet complexity rules.\")\n"
   ]
  },
  {
   "cell_type": "markdown",
   "id": "32870f9f-fb3c-4522-9df5-d5a3ef7fda37",
   "metadata": {},
   "source": [
    "### 32. Develop a program that performs matrix addition and subtraction based on user input.\n"
   ]
  },
  {
   "cell_type": "code",
   "execution_count": null,
   "id": "c595c4eb-9e9b-4af4-a924-7951f7ffb620",
   "metadata": {},
   "outputs": [],
   "source": [
    "def matrix_addition(matrix1, matrix2):\n",
    "    result = []\n",
    "    for i in range(len(matrix1)):\n",
    "        row = []\n",
    "        for j in range(len(matrix1[0])):\n",
    "            row.append(matrix1[i][j] + matrix2[i][j])\n",
    "        result.append(row)\n",
    "    return result\n",
    "\n",
    "def matrix_subtraction(matrix1, matrix2):\n",
    "    result = []\n",
    "    for i in range(len(matrix1)):\n",
    "        row = []\n",
    "        for j in range(len(matrix1[0])):\n",
    "            row.append(matrix1[i][j] - matrix2[i][j])\n",
    "        result.append(row)\n",
    "    return result\n",
    "\n",
    "# Input matrices as lists of lists\n",
    "matrix1 = [[1, 2], [3, 4]]\n",
    "matrix2 = [[5, 6], [7, 8]]\n",
    "\n",
    "print(\"Matrix Addition:\")\n",
    "for row in matrix_addition(matrix1, matrix2):\n",
    "    print(row)\n",
    "\n",
    "print(\"\\nMatrix Subtraction:\")\n",
    "for row in matrix_subtraction(matrix1, matrix2):\n",
    "    print(row)\n"
   ]
  },
  {
   "cell_type": "markdown",
   "id": "5a550c37-a950-4794-b07e-71f4f87b3689",
   "metadata": {},
   "source": [
    "### 33. Write a program that calculates the greatest common divisor (GCD) of two numbers using the Euclidean algorithm.\n"
   ]
  },
  {
   "cell_type": "code",
   "execution_count": null,
   "id": "19c449fb-1382-4877-bd50-6137e5ceb9f1",
   "metadata": {},
   "outputs": [],
   "source": [
    "def gcd_euclidean(a, b):\n",
    "    while b:\n",
    "        a, b = b, a % b\n",
    "    return a\n",
    "\n",
    "num1 = int(input(\"Enter the first number: \"))\n",
    "num2 = int(input(\"Enter the second number: \"))\n",
    "\n",
    "gcd = gcd_euclidean(num1, num2)\n",
    "print(f\"The GCD of {num1} and {num2} is {gcd}\")\n"
   ]
  },
  {
   "cell_type": "markdown",
   "id": "42b05381-d00f-4cea-ad31-ee76093fe893",
   "metadata": {},
   "source": [
    "### 34. Build a program that performs matrix multiplication using nested loops and conditional statements.\n"
   ]
  },
  {
   "cell_type": "code",
   "execution_count": null,
   "id": "b99d090d-c247-4437-a58f-f8e0c575fb24",
   "metadata": {},
   "outputs": [],
   "source": [
    "def matrix_multiplication(matrix1, matrix2):\n",
    "    result = []\n",
    "    for i in range(len(matrix1)):\n",
    "        row = []\n",
    "        for j in range(len(matrix2[0])):\n",
    "            element = 0\n",
    "            for k in range(len(matrix2)):\n",
    "                element += matrix1[i][k] * matrix2[k][j]\n",
    "            row.append(element)\n",
    "        result.append(row)\n",
    "    return result\n",
    "\n",
    "# Input matrices as lists of lists\n",
    "matrix1 = [[1, 2], [3, 4]]\n",
    "matrix2 = [[5, 6], [7, 8]]\n",
    "\n",
    "print(\"Matrix Multiplication:\")\n",
    "for row in matrix_multiplication(matrix1, matrix2):\n",
    "    print(row)\n"
   ]
  },
  {
   "cell_type": "markdown",
   "id": "22104663-6c0e-4f1f-84c7-810bb17dd222",
   "metadata": {},
   "source": [
    "### 35. Create a program that simulates a basic text-based tic-tac-toe game against the computer.\n"
   ]
  },
  {
   "cell_type": "code",
   "execution_count": null,
   "id": "ae888665-3bda-4c32-a49a-f32ef6c73aaa",
   "metadata": {},
   "outputs": [],
   "source": [
    "import random\n",
    "\n",
    "# Function to display the Tic-Tac-Toe board\n",
    "def display_board(board):\n",
    "    for row in board:\n",
    "        print(\" | \".join(row))\n",
    "        print(\"-\" * 9)\n",
    "\n",
    "# Function to check for a win\n",
    "def check_win(board, player):\n",
    "    for row in board:\n",
    "        if all(cell == player for cell in row):\n",
    "            return True\n",
    "    for col in range(3):\n",
    "        if all(board[row][col] == player for row in range(3)):\n",
    "            return True\n",
    "    if all(board[i][i] == player for i in range(3)) or all(board[i][2 - i] == player for i in range(3)):\n",
    "        return True\n",
    "    return False\n",
    "\n",
    "# Function to check for a tie\n",
    "def check_tie(board):\n",
    "    return all(cell != \" \" for row in board for cell in row)\n",
    "\n",
    "# Function for the computer's move\n",
    "def computer_move(board):\n",
    "    empty_cells = [(row, col) for row in range(3) for col in range(3) if board[row][col] == \" \"]\n",
    "    return random.choice(empty_cells)\n",
    "\n",
    "# Main game loop\n",
    "def play_game():\n",
    "    board = [[\" \" for _ in range(3)] for _ in range(3)]\n",
    "    player = \"X\"\n",
    "    computer = \"O\"\n",
    "    \n",
    "    print(\"Welcome to Tic-Tac-Toe against the computer!\")\n",
    "    display_board(board)\n",
    "    \n",
    "    while True:\n",
    "        if player == \"X\":\n",
    "            row, col = map(int, input(\"Enter your move (row and column): \").split())\n",
    "        else:\n",
    "            print(\"Computer is thinking...\")\n",
    "            row, col = computer_move(board)\n",
    "        \n",
    "        if 0 <= row < 3 and 0 <= col < 3 and board[row][col] == \" \":\n",
    "            board[row][col] = player\n",
    "            display_board(board)\n",
    "            \n",
    "            if check_win(board, player):\n",
    "                print(f\"Player {player} wins! Congratulations!\")\n",
    "                break\n",
    "            elif check_tie(board):\n",
    "                print(\"It's a tie!\")\n",
    "                break\n",
    "            \n",
    "            player, computer = computer, player\n",
    "        else:\n",
    "            print(\"Invalid move. Try again.\")\n",
    "\n",
    "# Start the game\n",
    "play_game()\n"
   ]
  },
  {
   "cell_type": "markdown",
   "id": "d438186f-0849-4ca0-badf-272df62c2a84",
   "metadata": {},
   "source": [
    "### 36. Write a program that generates Fibonacci numbers up to a specified term using iterative methods.\n"
   ]
  },
  {
   "cell_type": "code",
   "execution_count": null,
   "id": "c2243091-133c-42f3-879f-45868597003f",
   "metadata": {},
   "outputs": [],
   "source": [
    "def generate_fibonacci(n):\n",
    "    fibonacci = [0, 1]\n",
    "    while len(fibonacci) < n:\n",
    "        next_num = fibonacci[-1] + fibonacci[-2]\n",
    "        fibonacci.append(next_num)\n",
    "    return fibonacci\n",
    "\n",
    "n = int(input(\"Enter the number of Fibonacci numbers to generate: \"))\n",
    "fibonacci_sequence = generate_fibonacci(n)\n",
    "print(f\"Fibonacci sequence of length {n}: {fibonacci_sequence}\")\n"
   ]
  },
  {
   "cell_type": "markdown",
   "id": "6598f39b-6b3a-4698-a8ba-0bdc780a4248",
   "metadata": {},
   "source": [
    "### 37. Develop a program that calculates the nth term of the Fibonacci sequence using memoization.\n"
   ]
  },
  {
   "cell_type": "code",
   "execution_count": null,
   "id": "9927e429-78af-4099-ab51-73701b3e02dc",
   "metadata": {},
   "outputs": [],
   "source": [
    "# Function to calculate the nth Fibonacci term using memoization\n",
    "def fibonacci(n, memo={}):\n",
    "    if n in memo:\n",
    "        return memo[n]\n",
    "    if n <= 2:\n",
    "        return 1\n",
    "    else:\n",
    "        result = fibonacci(n - 1, memo) + fibonacci(n - 2, memo)\n",
    "        memo[n] = result\n",
    "        return result\n",
    "\n",
    "# Input the value of n\n",
    "n = int(input(\"Enter the value of n: \"))\n",
    "\n",
    "# Calculate and display the nth Fibonacci term\n",
    "result = fibonacci(n)\n",
    "print(f\"The {n}th Fibonacci term is {result}\")\n"
   ]
  },
  {
   "cell_type": "markdown",
   "id": "4bba2334-f9e0-40d7-ad00-5902daed3a44",
   "metadata": {},
   "source": [
    "### 38. Create a program that generates a calendar for a given month and year using conditional statements.\n"
   ]
  },
  {
   "cell_type": "code",
   "execution_count": null,
   "id": "e9eed406-d62e-436c-aae6-8e5da92491f6",
   "metadata": {},
   "outputs": [],
   "source": [
    "import calendar\n",
    "\n",
    "year = int(input(\"Enter the year: \"))\n",
    "month = int(input(\"Enter the month (1-12): \"))\n",
    "\n",
    "cal = calendar.month(year, month)\n",
    "print(f\"Calendar for {calendar.month_name[month]} {year}:\\n\")\n",
    "print(cal)\n"
   ]
  },
  {
   "cell_type": "markdown",
   "id": "c1255d06-3f9f-4e2b-832d-79b77f49770b",
   "metadata": {},
   "source": [
    "### 39. Build a program that simulates a basic text-based blackjack game against the computer.\n"
   ]
  },
  {
   "cell_type": "code",
   "execution_count": null,
   "id": "c196627d-58af-4ac2-9179-99a83721020f",
   "metadata": {},
   "outputs": [],
   "source": [
    "import random\n",
    "\n",
    "# Function to deal a random card\n",
    "def deal_card():\n",
    "    cards = [2, 3, 4, 5, 6, 7, 8, 9, 10, 10, 10, 10, 11]  # 11 represents Ace\n",
    "    return random.choice(cards)\n",
    "\n",
    "# Function to calculate the total value of a hand\n",
    "def calculate_hand_value(hand):\n",
    "    if sum(hand) > 21 and 11 in hand:\n",
    "        hand.remove(11)\n",
    "        hand.append(1)\n",
    "    return sum(hand)\n",
    "\n",
    "# Function to display the player's and computer's hands\n",
    "def display_hands(player_hand, computer_hand):\n",
    "    print(f\"Your hand: {player_hand}, total value: {calculate_hand_value(player_hand)}\")\n",
    "    print(f\"Computer's hand: {computer_hand[0]}, total value: ?\")\n",
    "\n",
    "# Main game loop\n",
    "def play_game():\n",
    "    player_hand = [deal_card(), deal_card()]\n",
    "    computer_hand = [deal_card(), deal_card()]\n",
    "    \n",
    "    print(\"Welcome to Blackjack!\")\n",
    "    display_hands(player_hand, computer_hand)\n",
    "    \n",
    "    # Player's turn\n",
    "    while calculate_hand_value(player_hand) < 21:\n",
    "        action = input(\"Do you want to 'hit' or 'stand'? \").lower()\n",
    "        if action == \"hit\":\n",
    "            player_hand.append(deal_card())\n",
    "            display_hands(player_hand, computer_hand)\n",
    "        elif action == \"stand\":\n",
    "            break\n",
    "    \n",
    "    # Computer's turn\n",
    "    while calculate_hand_value(computer_hand) < 17:\n",
    "        computer_hand.append(deal_card())\n",
    "    \n",
    "    # Display the final hands\n",
    "    display_hands(player_hand, computer_hand)\n",
    "    \n",
    "    # Determine the winner\n",
    "    player_total = calculate_hand_value(player_hand)\n",
    "    computer_total = calculate_hand_value(computer_hand)\n",
    "    \n",
    "    if player_total > 21:\n",
    "        print(\"You busted. Computer wins!\")\n",
    "    elif computer_total > 21:\n",
    "        print(\"Computer busted. You win!\")\n",
    "    elif player_total == computer_total:\n",
    "        print(\"It's a tie!\")\n",
    "    elif player_total > computer_total:\n",
    "        print(\"You win!\")\n",
    "    else:\n",
    "        print(\"Computer wins!\")\n",
    "\n",
    "# Start the game\n",
    "play_game()"
   ]
  },
  {
   "cell_type": "markdown",
   "id": "3439bca8-f9c9-4087-8e62-9e2c9545ef9a",
   "metadata": {},
   "source": [
    "### 40. Write a program that generates the prime factors of a given number using trial division."
   ]
  },
  {
   "cell_type": "code",
   "execution_count": null,
   "id": "eda356f9-1a15-4016-8d2b-d9fb7eab7cf8",
   "metadata": {},
   "outputs": [],
   "source": [
    "def prime_factors(n):\n",
    "    factors = []\n",
    "    divisor = 2\n",
    "    while divisor <= n:\n",
    "        if n % divisor == 0:\n",
    "            factors.append(divisor)\n",
    "            n //= divisor\n",
    "        else:\n",
    "            divisor += 1\n",
    "    return factors\n",
    "\n",
    "number = int(input(\"Enter a number to find its prime factors: \"))\n",
    "factors = prime_factors(number)\n",
    "print(f\"Prime factors of {number}: {factors}\")"
   ]
  }
 ],
 "metadata": {
  "kernelspec": {
   "display_name": "Python 3 (ipykernel)",
   "language": "python",
   "name": "python3"
  },
  "language_info": {
   "codemirror_mode": {
    "name": "ipython",
    "version": 3
   },
   "file_extension": ".py",
   "mimetype": "text/x-python",
   "name": "python",
   "nbconvert_exporter": "python",
   "pygments_lexer": "ipython3",
   "version": "3.10.8"
  }
 },
 "nbformat": 4,
 "nbformat_minor": 5
}
